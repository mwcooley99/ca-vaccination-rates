{
 "cells": [
  {
   "cell_type": "markdown",
   "metadata": {
    "pycharm": {}
   },
   "source": [
    "# Final Analysis of Vaccination Rates\n",
    "Vaccination rates have begun to fall in areas of Califonia. This has led to outbreaks of previously erradicated diseases. This isn't just a problem in California so it would be helpful to identify demographic indicators that could help us target where outbreaks are more likely to occur, allowing targeted educaitonal campaigns to combat misinformation about vaccinations.\n",
    "## Exploration Questions\n",
    "What does the vaccination rate look like accross California?\n",
    "\n",
    "What relationship (if any) do the folowing variables have on the vaccination rates?accross countries.\n",
    "- Income\n",
    "- Unemployment\n",
    "- County Education Level\n",
    "- Insured Rate\n",
    "- County Population\n",
    "\n",
    "## Data being used\n",
    "- Kindergarten Immunization records from Kaggle [link](https://www.kaggle.com/broach/california-kindergarten-immunization-rates)\n",
    "- CA census estimates currated by the state [link](http://www.dof.ca.gov/Reports/Demographic_Reports/American_Community_Survey/#ACS2017x5)"
   ]
  },
  {
   "cell_type": "markdown",
   "metadata": {
    "pycharm": {}
   },
   "source": [
    "# Imports"
   ]
  },
  {
   "cell_type": "markdown",
   "metadata": {
    "pycharm": {}
   },
   "source": [
    "## Modules and Environment"
   ]
  },
  {
   "cell_type": "code",
   "execution_count": 1,
   "metadata": {
    "pycharm": {
     "is_executing": false
    }
   },
   "outputs": [],
   "source": [
    "# Calculation\n",
    "import pandas as pd\n",
    "import numpy as np\n",
    "from scipy import stats\n",
    "import statsmodels.api as sm\n",
    "\n",
    "# Visualization\n",
    "import matplotlib.pyplot as plt\n",
    "import seaborn as sns\n",
    "\n",
    "# Additional Modules\n",
    "import subprocess\n",
    "from functools import reduce\n",
    "\n",
    "get_ipython().run_line_magic('config', 'IPCompleter.greedy = True')"
   ]
  },
  {
   "cell_type": "markdown",
   "metadata": {},
   "source": [
    "## Data from exploration and cleanup"
   ]
  },
  {
   "cell_type": "code",
   "execution_count": 2,
   "metadata": {},
   "outputs": [
    {
     "ename": "ModuleNotFoundError",
     "evalue": "No module named 'helper_funcs'",
     "output_type": "error",
     "traceback": [
      "\u001b[0;31m---------------------------------------------------------------------------\u001b[0m",
      "\u001b[0;31mModuleNotFoundError\u001b[0m                       Traceback (most recent call last)",
      "\u001b[0;32m<ipython-input-2-bc27a77e2dc7>\u001b[0m in \u001b[0;36m<module>\u001b[0;34m\u001b[0m\n\u001b[0;32m----> 1\u001b[0;31m \u001b[0;32mfrom\u001b[0m \u001b[0mhelper_funcs\u001b[0m \u001b[0;32mimport\u001b[0m \u001b[0mmerged_df\u001b[0m\u001b[0;34m\u001b[0m\u001b[0;34m\u001b[0m\u001b[0m\n\u001b[0m",
      "\u001b[0;31mModuleNotFoundError\u001b[0m: No module named 'helper_funcs'"
     ]
    }
   ],
   "source": [
    "from helper_funcs import merged_df"
   ]
  },
  {
   "cell_type": "code",
   "execution_count": null,
   "metadata": {},
   "outputs": [],
   "source": [
    "merged_df.head()"
   ]
  },
  {
   "cell_type": "markdown",
   "metadata": {},
   "source": [
    "# Visualizations and Analysis"
   ]
  },
  {
   "cell_type": "code",
   "execution_count": null,
   "metadata": {},
   "outputs": [],
   "source": [
    "# Some Descriptive data and Probabability density function, looking for outliers\n",
    "num_of_bins = 20\n",
    "display(pd.DataFrame(merged_df['Percent Vaccinated'].describe()))\n",
    "ax = sns.distplot(merged_df['Percent Vaccinated'], bins=num_of_bins)\n",
    "fig = ax.get_figure()\n",
    "fig.savefig('output/vaccination_distplot.png', dpi=300)"
   ]
  },
  {
   "cell_type": "code",
   "execution_count": null,
   "metadata": {},
   "outputs": [],
   "source": [
    "fig, ax = plt.subplots(figsize=(10,8))\n",
    "sns.barplot(x='County', y='Population', data=merged_df, ax=ax)\n",
    "ax.tick_params(rotation=90)\n",
    "ax.set_title('County Populations')\n",
    "fig.tight_layout()\n",
    "fig.savefig('output/population_bar.png', dpi=300)"
   ]
  },
  {
   "cell_type": "markdown",
   "metadata": {},
   "source": [
    "## Education level potentially has a correlation"
   ]
  },
  {
   "cell_type": "code",
   "execution_count": null,
   "metadata": {},
   "outputs": [],
   "source": [
    "education_cols = ['No High School Diploma', 'High School or Higher',\n",
    "                 'Bachelors or Higher']\n",
    "sns_plot = sns.pairplot(merged_df, y_vars='Percent Vaccinated', x_vars=education_cols,\n",
    "                 kind='reg', height=5)\n",
    "sns_plot.savefig('output/education_bubble.png', dpi=300)"
   ]
  },
  {
   "cell_type": "markdown",
   "metadata": {},
   "source": [
    "## Linear regression on no High School Diploma\n",
    "There is a significantly small p-value indicating a correlation. The r-squared value of 0.38 implies reasonable predictive value."
   ]
  },
  {
   "cell_type": "code",
   "execution_count": null,
   "metadata": {},
   "outputs": [],
   "source": [
    "# Look at linear regression for the High Schol or Higher group\n",
    "X = merged_df['No High School Diploma']\n",
    "Y = merged_df['Percent Vaccinated']\n",
    "\n",
    "X = sm.add_constant(X)\n",
    "\n",
    "model = sm.OLS(Y, X).fit()\n",
    "predication = model.predict(X)\n",
    "\n",
    "# print_model = model.summary()\n",
    "# print(print_model)\n",
    "\n",
    "const, coef = model.params\n",
    "p_val = model.pvalues['No High School Diploma']\n",
    "print(f'The coeficient of our linear Regression is: {round(coef,2)} with a constant of: {round(const,2)}\\\n",
    " and an R-squared value of: {round(model.rsquared, 2)} and a p-value of: {p_val}.')\n",
    "\n",
    "# Plot the data with the regression line\n",
    "fig, ax = plt.subplots()\n",
    "\n",
    "# Bubble Plot\n",
    "merged_df.plot.scatter(x='No High School Diploma', y='Percent Vaccinated', ax=ax)\n",
    "\n",
    "# Regression line\n",
    "x = np.linspace(0, 40)\n",
    "y = coef * x + const\n",
    "\n",
    "plt.plot(x, y, '-r')\n",
    "\n",
    "fig.tight_layout()\n",
    "fig.savefig('output/lin_reg.png', dpi=300)"
   ]
  },
  {
   "cell_type": "markdown",
   "metadata": {},
   "source": [
    "## Suprisingly Not Relevant\n",
    "Here we see that income, unemployment, population, and percent insured seem to have no relevant correlation.\n",
    "\n",
    "*Note that I ran a regression on Percent Insured found that the p-value was high."
   ]
  },
  {
   "cell_type": "code",
   "execution_count": null,
   "metadata": {},
   "outputs": [],
   "source": [
    "cols = ['Population', 'Percent Insured', 'Median Income', 'Unemployment Percentage']\n",
    "sns_plot = sns.pairplot(merged_df, y_vars='Percent Vaccinated', x_vars=cols, kind='reg', height=5)\n",
    "sns_plot.savefig('output/not_relevant_scatter.png', dpi=300)"
   ]
  },
  {
   "cell_type": "markdown",
   "metadata": {},
   "source": [
    "# Findings"
   ]
  },
  {
   "cell_type": "markdown",
   "metadata": {},
   "source": [
    "## What does the vaccination rate look like around California?\n",
    "- There is a relatively large range of vaccination rates accross California Counties. The difference from the lowest to highest county is about 20%\n",
    "- The mean and median are in the 95-96% range. This is good for herd immunity, but the Std Dev of 3 means that there are a significant number of counties that are likely below the threshholds for herd immunity needed for contagious diseases like the measles."
   ]
  },
  {
   "cell_type": "markdown",
   "metadata": {},
   "source": [
    "## Education level\n",
    "- There appears to be correlation between a counties percentage of residents with 'No High School Diploma' and the vaccination rate.\n",
    "    - The high r-squared value implies that this isn't predictive. \n",
    "    - It could also be an artifact.\n",
    "    - We're looking at a .38% increase in percent vacinated for every 1% increase in the percent of high school dropouts.\n",
    "- Interestingly this correlation seems to dissapear at any other educational milestone.\n"
   ]
  },
  {
   "cell_type": "markdown",
   "metadata": {},
   "source": [
    "## Other Demographic indicators\n",
    "- None of the other indicators I looked at appear to correlate with the vaccination rate."
   ]
  },
  {
   "cell_type": "markdown",
   "metadata": {},
   "source": [
    "# Next Steps"
   ]
  },
  {
   "cell_type": "markdown",
   "metadata": {},
   "source": [
    "## Disaggregate data by city\n",
    "Noting the large variance in county size, it would be interesting to see if looking at the same data at the city level would lend any new insghts.\n",
    "\n",
    "## Other demographic indicators\n",
    "While dissagregating the data might yields some interesting insights, we might just be missing the relevant indicators. Some interesting data to include for further analysis might be:\n",
    "- Number of members in households\n",
    "- Ethnicity\n",
    "- Religion"
   ]
  }
 ],
 "metadata": {
  "kernelspec": {
   "display_name": "Python 3",
   "language": "python",
   "name": "python3"
  },
  "language_info": {
   "codemirror_mode": {
    "name": "ipython",
    "version": 3
   },
   "file_extension": ".py",
   "mimetype": "text/x-python",
   "name": "python",
   "nbconvert_exporter": "python",
   "pygments_lexer": "ipython3",
   "version": "3.7.2"
  }
 },
 "nbformat": 4,
 "nbformat_minor": 2
}
