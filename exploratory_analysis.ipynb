{
 "cells": [
  {
   "cell_type": "markdown",
   "metadata": {
    "pycharm": {}
   },
   "source": [
    "# Data Exploration and Clean up\n",
    "Looking at Vaccination rates per county and county cross-referenced with demographic data to look for any correlations.\n",
    "## Exploration Questions\n",
    "What does the vaccination rate look like accross California\n",
    "\n",
    "What relationship (if any) do the folowing variables have on the vaccination rates accross countries.\n",
    "- Median Income\n",
    "- County Education Level\n",
    "- Unemployment Level\n",
    "- Percent Uninsured\n",
    "- County Population\n",
    "\n",
    "## Data being used\n",
    "- Kindergarten Immunization records from Kaggle [link](https://www.kaggle.com/broach/california-kindergarten-immunization-rates)\n",
    "- CA census estimates currated by the state [link](http://www.dof.ca.gov/Reports/Demographic_Reports/American_Community_Survey/#ACS2017x5)"
   ]
  },
  {
   "cell_type": "markdown",
   "metadata": {
    "pycharm": {}
   },
   "source": [
    "# Imports"
   ]
  },
  {
   "cell_type": "markdown",
   "metadata": {
    "pycharm": {}
   },
   "source": [
    "## Modules and Environment"
   ]
  },
  {
   "cell_type": "code",
   "execution_count": 1,
   "metadata": {
    "pycharm": {
     "is_executing": false
    }
   },
   "outputs": [],
   "source": [
    "# Calculation\n",
    "import pandas as pd\n",
    "import numpy as np\n",
    "from scipy import stats\n",
    "import statsmodels.api as sm\n",
    "\n",
    "# Visualization\n",
    "import matplotlib.pyplot as plt\n",
    "import seaborn as sns\n",
    "\n",
    "# Additional Modules\n",
    "import subprocess\n",
    "from functools import reduce\n",
    "\n",
    "get_ipython().run_line_magic('config', 'IPCompleter.greedy = True')"
   ]
  },
  {
   "cell_type": "markdown",
   "metadata": {
    "pycharm": {}
   },
   "source": [
    "## Import data and basic cleaning of Data"
   ]
  },
  {
   "cell_type": "markdown",
   "metadata": {
    "pycharm": {}
   },
   "source": [
    "### Immunization Records"
   ]
  },
  {
   "cell_type": "markdown",
   "metadata": {
    "pycharm": {}
   },
   "source": [
    "#### Key for the table\n",
    "- schoolType - Public/Private indicator\n",
    "- COUNTY - name of county in CA\n",
    "- SCHOOL - String label of school (not always consistent across years)\n",
    "- school_code - Unique integer code for each school (consistent across years)\n",
    "- n - Number of students\n",
    "- nMMR - Number of students reporting complete MMR vaccination\n",
    "- nDTP - Number of students reporting DTP vaccination\n",
    "- nPolio - Number of students reporting Polio vaccination\n",
    "- nPBE - Number of students reporting personal beliefs exemption*\n",
    "- nPME - Number of students reporting permanent medical exemption\n",
    "- year - Calendar year (2000:2014) where 2000=2000-2001 school year, 2001=2001-2002 school year, etc."
   ]
  },
  {
   "cell_type": "code",
   "execution_count": 2,
   "metadata": {
    "pycharm": {
     "is_executing": false
    }
   },
   "outputs": [
    {
     "data": {
      "text/html": [
       "<div>\n",
       "<style scoped>\n",
       "    .dataframe tbody tr th:only-of-type {\n",
       "        vertical-align: middle;\n",
       "    }\n",
       "\n",
       "    .dataframe tbody tr th {\n",
       "        vertical-align: top;\n",
       "    }\n",
       "\n",
       "    .dataframe thead th {\n",
       "        text-align: right;\n",
       "    }\n",
       "</style>\n",
       "<table border=\"1\" class=\"dataframe\">\n",
       "  <thead>\n",
       "    <tr style=\"text-align: right;\">\n",
       "      <th></th>\n",
       "      <th>schoolType</th>\n",
       "      <th>COUNTY</th>\n",
       "      <th>SCHOOL</th>\n",
       "      <th>school_code</th>\n",
       "      <th>n</th>\n",
       "      <th>nMMR</th>\n",
       "      <th>nDTP</th>\n",
       "      <th>nPolio</th>\n",
       "      <th>nPBE</th>\n",
       "      <th>nPME</th>\n",
       "      <th>year</th>\n",
       "    </tr>\n",
       "  </thead>\n",
       "  <tbody>\n",
       "    <tr>\n",
       "      <th>0</th>\n",
       "      <td>PRIVATE</td>\n",
       "      <td>ALAMEDA</td>\n",
       "      <td>A CHILD'S WORLD MONTE</td>\n",
       "      <td>7092463</td>\n",
       "      <td>12</td>\n",
       "      <td>12</td>\n",
       "      <td>11</td>\n",
       "      <td>9</td>\n",
       "      <td>0</td>\n",
       "      <td>0</td>\n",
       "      <td>2000</td>\n",
       "    </tr>\n",
       "    <tr>\n",
       "      <th>1</th>\n",
       "      <td>PRIVATE</td>\n",
       "      <td>ALAMEDA</td>\n",
       "      <td>ACAD</td>\n",
       "      <td>6972533</td>\n",
       "      <td>15</td>\n",
       "      <td>15</td>\n",
       "      <td>15</td>\n",
       "      <td>15</td>\n",
       "      <td>0</td>\n",
       "      <td>0</td>\n",
       "      <td>2000</td>\n",
       "    </tr>\n",
       "    <tr>\n",
       "      <th>2</th>\n",
       "      <td>PRIVATE</td>\n",
       "      <td>ALAMEDA</td>\n",
       "      <td>ACTS CHRISTIAN ACADEM</td>\n",
       "      <td>7082266</td>\n",
       "      <td>19</td>\n",
       "      <td>17</td>\n",
       "      <td>17</td>\n",
       "      <td>17</td>\n",
       "      <td>0</td>\n",
       "      <td>0</td>\n",
       "      <td>2009</td>\n",
       "    </tr>\n",
       "    <tr>\n",
       "      <th>3</th>\n",
       "      <td>PRIVATE</td>\n",
       "      <td>ALAMEDA</td>\n",
       "      <td>ACTS CHRISTIAN ACADEM</td>\n",
       "      <td>7082266</td>\n",
       "      <td>23</td>\n",
       "      <td>6</td>\n",
       "      <td>22</td>\n",
       "      <td>23</td>\n",
       "      <td>0</td>\n",
       "      <td>0</td>\n",
       "      <td>2010</td>\n",
       "    </tr>\n",
       "    <tr>\n",
       "      <th>4</th>\n",
       "      <td>PRIVATE</td>\n",
       "      <td>ALAMEDA</td>\n",
       "      <td>ACTS CHRISTIAN ACADEM</td>\n",
       "      <td>7082266</td>\n",
       "      <td>27</td>\n",
       "      <td>27</td>\n",
       "      <td>27</td>\n",
       "      <td>27</td>\n",
       "      <td>0</td>\n",
       "      <td>0</td>\n",
       "      <td>2006</td>\n",
       "    </tr>\n",
       "  </tbody>\n",
       "</table>\n",
       "</div>"
      ],
      "text/plain": [
       "  schoolType   COUNTY                 SCHOOL  school_code   n  nMMR  nDTP  \\\n",
       "0    PRIVATE  ALAMEDA  A CHILD'S WORLD MONTE      7092463  12    12    11   \n",
       "1    PRIVATE  ALAMEDA                   ACAD      6972533  15    15    15   \n",
       "2    PRIVATE  ALAMEDA  ACTS CHRISTIAN ACADEM      7082266  19    17    17   \n",
       "3    PRIVATE  ALAMEDA  ACTS CHRISTIAN ACADEM      7082266  23     6    22   \n",
       "4    PRIVATE  ALAMEDA  ACTS CHRISTIAN ACADEM      7082266  27    27    27   \n",
       "\n",
       "   nPolio  nPBE  nPME  year  \n",
       "0       9     0     0  2000  \n",
       "1      15     0     0  2000  \n",
       "2      17     0     0  2009  \n",
       "3      23     0     0  2010  \n",
       "4      27     0     0  2006  "
      ]
     },
     "execution_count": 2,
     "metadata": {},
     "output_type": "execute_result"
    }
   ],
   "source": [
    "# Import immunization records\n",
    "student_df = pd.read_csv('data/california-kindergarten-immunization-rates/StudentData.csv', sep=None, engine='python')\n",
    "student_df.head()"
   ]
  },
  {
   "cell_type": "code",
   "execution_count": 3,
   "metadata": {
    "pycharm": {}
   },
   "outputs": [
    {
     "data": {
      "text/plain": [
       "array([2010, 2012, 2011, 2014, 2013])"
      ]
     },
     "execution_count": 3,
     "metadata": {},
     "output_type": "execute_result"
    }
   ],
   "source": [
    "# Narrow down to the years we have demo data\n",
    "student_df = student_df[(student_df['year'] > 2009) & (student_df['year'] < 2015)]\n",
    "student_df['year'].unique()"
   ]
  },
  {
   "cell_type": "code",
   "execution_count": 4,
   "metadata": {
    "pycharm": {
     "is_executing": false
    }
   },
   "outputs": [
    {
     "data": {
      "text/html": [
       "<div>\n",
       "<style scoped>\n",
       "    .dataframe tbody tr th:only-of-type {\n",
       "        vertical-align: middle;\n",
       "    }\n",
       "\n",
       "    .dataframe tbody tr th {\n",
       "        vertical-align: top;\n",
       "    }\n",
       "\n",
       "    .dataframe thead th {\n",
       "        text-align: right;\n",
       "    }\n",
       "</style>\n",
       "<table border=\"1\" class=\"dataframe\">\n",
       "  <thead>\n",
       "    <tr style=\"text-align: right;\">\n",
       "      <th></th>\n",
       "      <th>County</th>\n",
       "      <th>n</th>\n",
       "      <th>exemptions</th>\n",
       "      <th>Percent Vaccinated</th>\n",
       "    </tr>\n",
       "  </thead>\n",
       "  <tbody>\n",
       "    <tr>\n",
       "      <th>0</th>\n",
       "      <td>Alameda</td>\n",
       "      <td>96934</td>\n",
       "      <td>1594</td>\n",
       "      <td>98.36</td>\n",
       "    </tr>\n",
       "    <tr>\n",
       "      <th>1</th>\n",
       "      <td>Alpine</td>\n",
       "      <td>56</td>\n",
       "      <td>3</td>\n",
       "      <td>94.64</td>\n",
       "    </tr>\n",
       "    <tr>\n",
       "      <th>2</th>\n",
       "      <td>Amador</td>\n",
       "      <td>1465</td>\n",
       "      <td>85</td>\n",
       "      <td>94.20</td>\n",
       "    </tr>\n",
       "    <tr>\n",
       "      <th>3</th>\n",
       "      <td>Butte</td>\n",
       "      <td>13052</td>\n",
       "      <td>759</td>\n",
       "      <td>94.18</td>\n",
       "    </tr>\n",
       "    <tr>\n",
       "      <th>4</th>\n",
       "      <td>Calaveras</td>\n",
       "      <td>2025</td>\n",
       "      <td>174</td>\n",
       "      <td>91.41</td>\n",
       "    </tr>\n",
       "  </tbody>\n",
       "</table>\n",
       "</div>"
      ],
      "text/plain": [
       "      County      n  exemptions  Percent Vaccinated\n",
       "0    Alameda  96934        1594               98.36\n",
       "1     Alpine     56           3               94.64\n",
       "2     Amador   1465          85               94.20\n",
       "3      Butte  13052         759               94.18\n",
       "4  Calaveras   2025         174               91.41"
      ]
     },
     "metadata": {},
     "output_type": "display_data"
    },
    {
     "data": {
      "text/html": [
       "<div>\n",
       "<style scoped>\n",
       "    .dataframe tbody tr th:only-of-type {\n",
       "        vertical-align: middle;\n",
       "    }\n",
       "\n",
       "    .dataframe tbody tr th {\n",
       "        vertical-align: top;\n",
       "    }\n",
       "\n",
       "    .dataframe thead th {\n",
       "        text-align: right;\n",
       "    }\n",
       "</style>\n",
       "<table border=\"1\" class=\"dataframe\">\n",
       "  <thead>\n",
       "    <tr style=\"text-align: right;\">\n",
       "      <th></th>\n",
       "      <th>n</th>\n",
       "      <th>exemptions</th>\n",
       "      <th>Percent Vaccinated</th>\n",
       "    </tr>\n",
       "  </thead>\n",
       "  <tbody>\n",
       "    <tr>\n",
       "      <th>count</th>\n",
       "      <td>58.000000</td>\n",
       "      <td>58.000000</td>\n",
       "      <td>58.000000</td>\n",
       "    </tr>\n",
       "    <tr>\n",
       "      <th>mean</th>\n",
       "      <td>45126.844828</td>\n",
       "      <td>1248.482759</td>\n",
       "      <td>95.283966</td>\n",
       "    </tr>\n",
       "    <tr>\n",
       "      <th>std</th>\n",
       "      <td>94967.489473</td>\n",
       "      <td>2156.439929</td>\n",
       "      <td>3.772534</td>\n",
       "    </tr>\n",
       "    <tr>\n",
       "      <th>min</th>\n",
       "      <td>56.000000</td>\n",
       "      <td>2.000000</td>\n",
       "      <td>79.860000</td>\n",
       "    </tr>\n",
       "    <tr>\n",
       "      <th>25%</th>\n",
       "      <td>2241.000000</td>\n",
       "      <td>140.250000</td>\n",
       "      <td>92.812500</td>\n",
       "    </tr>\n",
       "    <tr>\n",
       "      <th>50%</th>\n",
       "      <td>12741.000000</td>\n",
       "      <td>517.000000</td>\n",
       "      <td>96.305000</td>\n",
       "    </tr>\n",
       "    <tr>\n",
       "      <th>75%</th>\n",
       "      <td>43476.000000</td>\n",
       "      <td>1480.500000</td>\n",
       "      <td>98.122500</td>\n",
       "    </tr>\n",
       "    <tr>\n",
       "      <th>max</th>\n",
       "      <td>643340.000000</td>\n",
       "      <td>12228.000000</td>\n",
       "      <td>99.560000</td>\n",
       "    </tr>\n",
       "  </tbody>\n",
       "</table>\n",
       "</div>"
      ],
      "text/plain": [
       "                   n    exemptions  Percent Vaccinated\n",
       "count      58.000000     58.000000           58.000000\n",
       "mean    45126.844828   1248.482759           95.283966\n",
       "std     94967.489473   2156.439929            3.772534\n",
       "min        56.000000      2.000000           79.860000\n",
       "25%      2241.000000    140.250000           92.812500\n",
       "50%     12741.000000    517.000000           96.305000\n",
       "75%     43476.000000   1480.500000           98.122500\n",
       "max    643340.000000  12228.000000           99.560000"
      ]
     },
     "metadata": {},
     "output_type": "display_data"
    }
   ],
   "source": [
    "# Aggregate the student_df\n",
    "student_df['exemptions'] = student_df['nPBE'] + student_df['nPME']\n",
    "student_agg = student_df.groupby('COUNTY')['n', 'exemptions'].sum()\n",
    "\n",
    "# Format it\n",
    "student_agg = student_agg.reset_index()\n",
    "student_agg = student_agg.rename(columns={'COUNTY': 'County'})\n",
    "student_agg['County'] = student_agg['County'].str.title()\n",
    "\n",
    "# Find the percent vacinated\n",
    "student_agg['Percent Vaccinated'] = round((student_agg['n'] - student_agg['exemptions']) / student_agg['n'] * 100, 2)\n",
    "\n",
    "display(student_agg.head())\n",
    "display(student_agg.describe())"
   ]
  },
  {
   "cell_type": "markdown",
   "metadata": {
    "pycharm": {}
   },
   "source": [
    "### Demographic Data"
   ]
  },
  {
   "cell_type": "code",
   "execution_count": 5,
   "metadata": {
    "pycharm": {}
   },
   "outputs": [],
   "source": [
    "def filter_by_county(df):\n",
    "    new_df = df.loc[df['Geography'].str.contains('County')]\n",
    "    new_df = new_df.loc[~new_df['Geography'].str.contains('\\(')]\n",
    "    new_df['Geography'] = new_df['Geography'].str.replace(' County', '')\n",
    "    new_df = new_df.rename(columns={'Geography': 'County'})\n",
    "    return new_df"
   ]
  },
  {
   "cell_type": "code",
   "execution_count": 6,
   "metadata": {
    "pycharm": {}
   },
   "outputs": [
    {
     "data": {
      "text/html": [
       "<div>\n",
       "<style scoped>\n",
       "    .dataframe tbody tr th:only-of-type {\n",
       "        vertical-align: middle;\n",
       "    }\n",
       "\n",
       "    .dataframe tbody tr th {\n",
       "        vertical-align: top;\n",
       "    }\n",
       "\n",
       "    .dataframe thead th {\n",
       "        text-align: right;\n",
       "    }\n",
       "</style>\n",
       "<table border=\"1\" class=\"dataframe\">\n",
       "  <thead>\n",
       "    <tr style=\"text-align: right;\">\n",
       "      <th></th>\n",
       "      <th>County</th>\n",
       "      <th>High School Graduate</th>\n",
       "      <th>Bachelors</th>\n",
       "      <th>Graduate Degree</th>\n",
       "      <th>High School or Higher</th>\n",
       "      <th>Bachelors or Higher</th>\n",
       "      <th>No High School Diploma</th>\n",
       "    </tr>\n",
       "  </thead>\n",
       "  <tbody>\n",
       "    <tr>\n",
       "      <th>1</th>\n",
       "      <td>Alameda</td>\n",
       "      <td>18.9</td>\n",
       "      <td>24.6</td>\n",
       "      <td>17.5</td>\n",
       "      <td>86.7</td>\n",
       "      <td>42.1</td>\n",
       "      <td>13.3</td>\n",
       "    </tr>\n",
       "    <tr>\n",
       "      <th>22</th>\n",
       "      <td>Alpine</td>\n",
       "      <td>29.3</td>\n",
       "      <td>18.2</td>\n",
       "      <td>12.4</td>\n",
       "      <td>91.4</td>\n",
       "      <td>30.5</td>\n",
       "      <td>8.5</td>\n",
       "    </tr>\n",
       "    <tr>\n",
       "      <th>28</th>\n",
       "      <td>Amador</td>\n",
       "      <td>27.5</td>\n",
       "      <td>14.3</td>\n",
       "      <td>6.2</td>\n",
       "      <td>88.4</td>\n",
       "      <td>20.5</td>\n",
       "      <td>11.7</td>\n",
       "    </tr>\n",
       "    <tr>\n",
       "      <th>47</th>\n",
       "      <td>Butte</td>\n",
       "      <td>23.5</td>\n",
       "      <td>16.7</td>\n",
       "      <td>8.4</td>\n",
       "      <td>88</td>\n",
       "      <td>25</td>\n",
       "      <td>12</td>\n",
       "    </tr>\n",
       "    <tr>\n",
       "      <th>78</th>\n",
       "      <td>Calaveras</td>\n",
       "      <td>27</td>\n",
       "      <td>15</td>\n",
       "      <td>6.1</td>\n",
       "      <td>92.5</td>\n",
       "      <td>21.1</td>\n",
       "      <td>7.5</td>\n",
       "    </tr>\n",
       "  </tbody>\n",
       "</table>\n",
       "</div>"
      ],
      "text/plain": [
       "       County High School Graduate Bachelors Graduate Degree  \\\n",
       "1     Alameda                 18.9      24.6            17.5   \n",
       "22     Alpine                 29.3      18.2            12.4   \n",
       "28     Amador                 27.5      14.3             6.2   \n",
       "47      Butte                 23.5      16.7             8.4   \n",
       "78  Calaveras                   27        15             6.1   \n",
       "\n",
       "   High School or Higher Bachelors or Higher No High School Diploma  \n",
       "1                   86.7                42.1                   13.3  \n",
       "22                  91.4                30.5                    8.5  \n",
       "28                  88.4                20.5                   11.7  \n",
       "47                    88                  25                     12  \n",
       "78                  92.5                21.1                    7.5  "
      ]
     },
     "execution_count": 6,
     "metadata": {},
     "output_type": "execute_result"
    }
   ],
   "source": [
    "# Import Education Data\n",
    "education_df = pd.read_excel('data/Web_ACS2014_10_Educ.xlsx', sheet_name='Educational Attainment', header=[4,5])\n",
    "\n",
    "# Clean up the cols\n",
    "education_df = education_df.rename(columns={'Unnamed: 0_level_0': 'Geography'})\n",
    "education_df = education_df[[\"Geography\", \"Percent Less than 9th grade\", \"Percent 9th to 12th grade, no diploma\", \"Percent High school graduate (includes equivalency)\",\n",
    "                             \"Percent Bachelor's degree\", \"Percent Graduate or professional degree\",\n",
    "                             \"Percent high school graduate or higher\", \"Percent bachelor's degree or higher\"]]\n",
    "education_df = education_df.drop(columns=['Margin of Error', 'Margin of Error.1', 'Summary Level', 'County', 'Place'], level=1)\n",
    "\n",
    "education_df.columns = ['Geography', '9th or less', '9th-12th', \"High School Graduate\", 'Bachelors', 'Graduate Degree', 'High School or Higher', 'Bachelors or Higher']\n",
    "education_df['No High School Diploma'] = education_df['9th or less'] + education_df['9th-12th']\n",
    "education_df = education_df.drop(columns=['9th or less', '9th-12th'])\n",
    "# Filter down to the county level\n",
    "education_df = filter_by_county(education_df)\n",
    "\n",
    "education_df.head()"
   ]
  },
  {
   "cell_type": "code",
   "execution_count": 7,
   "metadata": {
    "pycharm": {}
   },
   "outputs": [
    {
     "name": "stdout",
     "output_type": "stream",
     "text": [
      "<class 'pandas.core.frame.DataFrame'>\n",
      "Int64Index: 58 entries, 1 to 1567\n",
      "Data columns (total 7 columns):\n",
      "County                    58 non-null object\n",
      "High School Graduate      58 non-null object\n",
      "Bachelors                 58 non-null object\n",
      "Graduate Degree           58 non-null object\n",
      "High School or Higher     58 non-null object\n",
      "Bachelors or Higher       58 non-null object\n",
      "No High School Diploma    58 non-null object\n",
      "dtypes: object(7)\n",
      "memory usage: 3.6+ KB\n"
     ]
    }
   ],
   "source": [
    "education_df.info()"
   ]
  },
  {
   "cell_type": "code",
   "execution_count": 8,
   "metadata": {
    "pycharm": {}
   },
   "outputs": [
    {
     "data": {
      "text/plain": [
       "(58, 3)"
      ]
     },
     "execution_count": 8,
     "metadata": {},
     "output_type": "execute_result"
    }
   ],
   "source": [
    "# Import Health Insurance Data\n",
    "health_ins_df = pd.read_excel('data/Web_ACS2014_10_HealthIns.xlsx', sheet_name='Health Insurance', header=[4,5])\n",
    "health_ins_df = health_ins_df.drop(columns=['Estimate Margin of Error', 'Percent Margin of Error'], level=1)\n",
    "\n",
    "health_ins_df = health_ins_df.iloc[:, :4]\n",
    "health_ins_df.columns = ['Geography', 'Population', 'Number Insured', 'Percent Insured']\n",
    "health_ins_df = health_ins_df.drop(columns='Number Insured')\n",
    "health_ins_df = filter_by_county(health_ins_df)\n",
    "\n",
    "health_ins_df.shape"
   ]
  },
  {
   "cell_type": "code",
   "execution_count": 9,
   "metadata": {
    "pycharm": {}
   },
   "outputs": [
    {
     "data": {
      "text/html": [
       "<div>\n",
       "<style scoped>\n",
       "    .dataframe tbody tr th:only-of-type {\n",
       "        vertical-align: middle;\n",
       "    }\n",
       "\n",
       "    .dataframe tbody tr th {\n",
       "        vertical-align: top;\n",
       "    }\n",
       "\n",
       "    .dataframe thead th {\n",
       "        text-align: right;\n",
       "    }\n",
       "</style>\n",
       "<table border=\"1\" class=\"dataframe\">\n",
       "  <thead>\n",
       "    <tr style=\"text-align: right;\">\n",
       "      <th></th>\n",
       "      <th>County</th>\n",
       "      <th>Median Income</th>\n",
       "      <th>Mean Income</th>\n",
       "      <th>Per capita income</th>\n",
       "      <th>Mean - Median</th>\n",
       "    </tr>\n",
       "  </thead>\n",
       "  <tbody>\n",
       "    <tr>\n",
       "      <th>1</th>\n",
       "      <td>Alameda</td>\n",
       "      <td>73775</td>\n",
       "      <td>99356</td>\n",
       "      <td>36439</td>\n",
       "      <td>25581</td>\n",
       "    </tr>\n",
       "    <tr>\n",
       "      <th>22</th>\n",
       "      <td>Alpine</td>\n",
       "      <td>61343</td>\n",
       "      <td>70985</td>\n",
       "      <td>24375</td>\n",
       "      <td>9642</td>\n",
       "    </tr>\n",
       "    <tr>\n",
       "      <th>28</th>\n",
       "      <td>Amador</td>\n",
       "      <td>52964</td>\n",
       "      <td>70485</td>\n",
       "      <td>27373</td>\n",
       "      <td>17521</td>\n",
       "    </tr>\n",
       "    <tr>\n",
       "      <th>47</th>\n",
       "      <td>Butte</td>\n",
       "      <td>43165</td>\n",
       "      <td>60620</td>\n",
       "      <td>24430</td>\n",
       "      <td>17455</td>\n",
       "    </tr>\n",
       "    <tr>\n",
       "      <th>78</th>\n",
       "      <td>Calaveras</td>\n",
       "      <td>54936</td>\n",
       "      <td>70238</td>\n",
       "      <td>29296</td>\n",
       "      <td>15302</td>\n",
       "    </tr>\n",
       "  </tbody>\n",
       "</table>\n",
       "</div>"
      ],
      "text/plain": [
       "       County Median Income Mean Income Per capita income Mean - Median\n",
       "1     Alameda         73775       99356             36439         25581\n",
       "22     Alpine         61343       70985             24375          9642\n",
       "28     Amador         52964       70485             27373         17521\n",
       "47      Butte         43165       60620             24430         17455\n",
       "78  Calaveras         54936       70238             29296         15302"
      ]
     },
     "execution_count": 9,
     "metadata": {},
     "output_type": "execute_result"
    }
   ],
   "source": [
    "# Import Income Data\n",
    "income_df = pd.read_excel('data/Web_ACS2014_10_Inc-Pov-Emp.xlsx', sheet_name='Income', header=[3,4])\n",
    "income_df = income_df[[('Unnamed: 0_level_0', 'Geography'),\n",
    "                                     ('Median household income (dollars)', 'Estimate'),\n",
    "                                     ('Mean household income (dollars)', 'Estimate'),\n",
    "                                     ('Per capita income (dollars)', 'Estimate')]]\n",
    "income_df.columns = ['Geography', 'Median Income', 'Mean Income', 'Per capita income']\n",
    "income_df = filter_by_county(income_df)\n",
    "income_df['Mean - Median'] = income_df['Mean Income'] - income_df['Median Income']\n",
    "income_df.head()"
   ]
  },
  {
   "cell_type": "code",
   "execution_count": 10,
   "metadata": {
    "pycharm": {}
   },
   "outputs": [
    {
     "data": {
      "text/plain": [
       "(58, 2)"
      ]
     },
     "execution_count": 10,
     "metadata": {},
     "output_type": "execute_result"
    }
   ],
   "source": [
    "# Import Unemployment Data\n",
    "unemployment_df_raw = pd.read_excel('data/Web_ACS2014_10_Inc-Pov-Emp.xlsx', sheet_name='Employment Status', header=[3,4,5,6])\n",
    "unemployment_df = pd.DataFrame()\n",
    "unemployment_df= unemployment_df_raw.iloc[:,[0, 17]]\n",
    "unemployment_df.columns = ['Geography', 'Unemployment Percentage']\n",
    "\n",
    "unemployment_df = filter_by_county(unemployment_df)\n",
    "unemployment_df.shape"
   ]
  },
  {
   "cell_type": "markdown",
   "metadata": {},
   "source": [
    "### Merge data into one frame for analysis"
   ]
  },
  {
   "cell_type": "code",
   "execution_count": 11,
   "metadata": {},
   "outputs": [
    {
     "data": {
      "text/html": [
       "<div>\n",
       "<style scoped>\n",
       "    .dataframe tbody tr th:only-of-type {\n",
       "        vertical-align: middle;\n",
       "    }\n",
       "\n",
       "    .dataframe tbody tr th {\n",
       "        vertical-align: top;\n",
       "    }\n",
       "\n",
       "    .dataframe thead th {\n",
       "        text-align: right;\n",
       "    }\n",
       "</style>\n",
       "<table border=\"1\" class=\"dataframe\">\n",
       "  <thead>\n",
       "    <tr style=\"text-align: right;\">\n",
       "      <th></th>\n",
       "      <th>County</th>\n",
       "      <th>n</th>\n",
       "      <th>exemptions</th>\n",
       "      <th>Percent Vaccinated</th>\n",
       "      <th>High School Graduate</th>\n",
       "      <th>Bachelors</th>\n",
       "      <th>Graduate Degree</th>\n",
       "      <th>High School or Higher</th>\n",
       "      <th>Bachelors or Higher</th>\n",
       "      <th>No High School Diploma</th>\n",
       "      <th>Population</th>\n",
       "      <th>Percent Insured</th>\n",
       "      <th>Median Income</th>\n",
       "      <th>Mean Income</th>\n",
       "      <th>Per capita income</th>\n",
       "      <th>Mean - Median</th>\n",
       "      <th>Unemployment Percentage</th>\n",
       "    </tr>\n",
       "  </thead>\n",
       "  <tbody>\n",
       "    <tr>\n",
       "      <th>28</th>\n",
       "      <td>Nevada</td>\n",
       "      <td>3998</td>\n",
       "      <td>805</td>\n",
       "      <td>79.86</td>\n",
       "      <td>20.8</td>\n",
       "      <td>21.4</td>\n",
       "      <td>11.4</td>\n",
       "      <td>94.3</td>\n",
       "      <td>32.8</td>\n",
       "      <td>5.7</td>\n",
       "      <td>97694</td>\n",
       "      <td>85.5</td>\n",
       "      <td>56949</td>\n",
       "      <td>75742</td>\n",
       "      <td>32117</td>\n",
       "      <td>18793</td>\n",
       "      <td>6.0</td>\n",
       "    </tr>\n",
       "    <tr>\n",
       "      <th>52</th>\n",
       "      <td>Trinity</td>\n",
       "      <td>473</td>\n",
       "      <td>70</td>\n",
       "      <td>85.20</td>\n",
       "      <td>27.7</td>\n",
       "      <td>16.8</td>\n",
       "      <td>5.2</td>\n",
       "      <td>90.7</td>\n",
       "      <td>22.0</td>\n",
       "      <td>9.4</td>\n",
       "      <td>13304</td>\n",
       "      <td>79.4</td>\n",
       "      <td>36862</td>\n",
       "      <td>52729</td>\n",
       "      <td>23145</td>\n",
       "      <td>15867</td>\n",
       "      <td>6.1</td>\n",
       "    </tr>\n",
       "    <tr>\n",
       "      <th>54</th>\n",
       "      <td>Tuolumne</td>\n",
       "      <td>2331</td>\n",
       "      <td>265</td>\n",
       "      <td>88.63</td>\n",
       "      <td>28.7</td>\n",
       "      <td>13.5</td>\n",
       "      <td>6.3</td>\n",
       "      <td>89.6</td>\n",
       "      <td>19.8</td>\n",
       "      <td>10.4</td>\n",
       "      <td>50986</td>\n",
       "      <td>87.8</td>\n",
       "      <td>48493</td>\n",
       "      <td>62446</td>\n",
       "      <td>26063</td>\n",
       "      <td>13953</td>\n",
       "      <td>7.5</td>\n",
       "    </tr>\n",
       "    <tr>\n",
       "      <th>11</th>\n",
       "      <td>Humboldt</td>\n",
       "      <td>7511</td>\n",
       "      <td>789</td>\n",
       "      <td>89.50</td>\n",
       "      <td>25.9</td>\n",
       "      <td>18.5</td>\n",
       "      <td>9.0</td>\n",
       "      <td>90.3</td>\n",
       "      <td>27.5</td>\n",
       "      <td>9.6</td>\n",
       "      <td>133758</td>\n",
       "      <td>81.2</td>\n",
       "      <td>42153</td>\n",
       "      <td>56409</td>\n",
       "      <td>23516</td>\n",
       "      <td>14256</td>\n",
       "      <td>6.7</td>\n",
       "    </tr>\n",
       "    <tr>\n",
       "      <th>46</th>\n",
       "      <td>Siskiyou</td>\n",
       "      <td>2211</td>\n",
       "      <td>211</td>\n",
       "      <td>90.46</td>\n",
       "      <td>26.0</td>\n",
       "      <td>16.2</td>\n",
       "      <td>7.8</td>\n",
       "      <td>88.8</td>\n",
       "      <td>24.0</td>\n",
       "      <td>11.2</td>\n",
       "      <td>44035</td>\n",
       "      <td>85.8</td>\n",
       "      <td>37495</td>\n",
       "      <td>50453</td>\n",
       "      <td>22482</td>\n",
       "      <td>12958</td>\n",
       "      <td>7.5</td>\n",
       "    </tr>\n",
       "  </tbody>\n",
       "</table>\n",
       "</div>"
      ],
      "text/plain": [
       "      County     n  exemptions  Percent Vaccinated  High School Graduate  \\\n",
       "28    Nevada  3998         805               79.86                  20.8   \n",
       "52   Trinity   473          70               85.20                  27.7   \n",
       "54  Tuolumne  2331         265               88.63                  28.7   \n",
       "11  Humboldt  7511         789               89.50                  25.9   \n",
       "46  Siskiyou  2211         211               90.46                  26.0   \n",
       "\n",
       "    Bachelors  Graduate Degree  High School or Higher  Bachelors or Higher  \\\n",
       "28       21.4             11.4                   94.3                 32.8   \n",
       "52       16.8              5.2                   90.7                 22.0   \n",
       "54       13.5              6.3                   89.6                 19.8   \n",
       "11       18.5              9.0                   90.3                 27.5   \n",
       "46       16.2              7.8                   88.8                 24.0   \n",
       "\n",
       "    No High School Diploma  Population  Percent Insured  Median Income  \\\n",
       "28                     5.7       97694             85.5          56949   \n",
       "52                     9.4       13304             79.4          36862   \n",
       "54                    10.4       50986             87.8          48493   \n",
       "11                     9.6      133758             81.2          42153   \n",
       "46                    11.2       44035             85.8          37495   \n",
       "\n",
       "    Mean Income  Per capita income  Mean - Median  Unemployment Percentage  \n",
       "28        75742              32117          18793                      6.0  \n",
       "52        52729              23145          15867                      6.1  \n",
       "54        62446              26063          13953                      7.5  \n",
       "11        56409              23516          14256                      6.7  \n",
       "46        50453              22482          12958                      7.5  "
      ]
     },
     "execution_count": 11,
     "metadata": {},
     "output_type": "execute_result"
    }
   ],
   "source": [
    "dfs = [student_agg, education_df, health_ins_df, income_df, unemployment_df]\n",
    "\n",
    "merged_df = reduce(lambda left, right: pd.merge(left, right, on='County'), dfs)\n",
    "\n",
    "# Convert non-numerical types that should be numbers\n",
    "merged_df.loc[:, merged_df.columns != 'County'] = merged_df.loc[:, merged_df.columns != 'County'].apply(pd.to_numeric)\n",
    "merged_df = merged_df.sort_values(by='Percent Vaccinated')\n",
    "\n",
    "merged_df.head()"
   ]
  },
  {
   "cell_type": "code",
   "execution_count": 12,
   "metadata": {},
   "outputs": [
    {
     "name": "stdout",
     "output_type": "stream",
     "text": [
      "<class 'pandas.core.frame.DataFrame'>\n",
      "Int64Index: 58 entries, 28 to 12\n",
      "Data columns (total 17 columns):\n",
      "County                     58 non-null object\n",
      "n                          58 non-null int64\n",
      "exemptions                 58 non-null int64\n",
      "Percent Vaccinated         58 non-null float64\n",
      "High School Graduate       58 non-null float64\n",
      "Bachelors                  58 non-null float64\n",
      "Graduate Degree            58 non-null float64\n",
      "High School or Higher      58 non-null float64\n",
      "Bachelors or Higher        58 non-null float64\n",
      "No High School Diploma     58 non-null float64\n",
      "Population                 58 non-null int64\n",
      "Percent Insured            58 non-null float64\n",
      "Median Income              58 non-null int64\n",
      "Mean Income                58 non-null int64\n",
      "Per capita income          58 non-null int64\n",
      "Mean - Median              58 non-null int64\n",
      "Unemployment Percentage    58 non-null float64\n",
      "dtypes: float64(9), int64(7), object(1)\n",
      "memory usage: 8.2+ KB\n"
     ]
    }
   ],
   "source": [
    "# merged_df['High School or Higher'] = merged_df['High School or Higher'].astype('float64')\n",
    "\n",
    "merged_df.info()"
   ]
  },
  {
   "cell_type": "markdown",
   "metadata": {},
   "source": [
    "# Analysis"
   ]
  },
  {
   "cell_type": "markdown",
   "metadata": {},
   "source": [
    "## Overview of Data"
   ]
  },
  {
   "cell_type": "code",
   "execution_count": 13,
   "metadata": {},
   "outputs": [
    {
     "name": "stdout",
     "output_type": "stream",
     "text": [
      "<class 'pandas.core.frame.DataFrame'>\n",
      "Int64Index: 58 entries, 28 to 12\n",
      "Data columns (total 17 columns):\n",
      "County                     58 non-null object\n",
      "n                          58 non-null int64\n",
      "exemptions                 58 non-null int64\n",
      "Percent Vaccinated         58 non-null float64\n",
      "High School Graduate       58 non-null float64\n",
      "Bachelors                  58 non-null float64\n",
      "Graduate Degree            58 non-null float64\n",
      "High School or Higher      58 non-null float64\n",
      "Bachelors or Higher        58 non-null float64\n",
      "No High School Diploma     58 non-null float64\n",
      "Population                 58 non-null int64\n",
      "Percent Insured            58 non-null float64\n",
      "Median Income              58 non-null int64\n",
      "Mean Income                58 non-null int64\n",
      "Per capita income          58 non-null int64\n",
      "Mean - Median              58 non-null int64\n",
      "Unemployment Percentage    58 non-null float64\n",
      "dtypes: float64(9), int64(7), object(1)\n",
      "memory usage: 8.2+ KB\n"
     ]
    }
   ],
   "source": [
    "# Get some info about the data set\n",
    "merged_df.info()"
   ]
  },
  {
   "cell_type": "code",
   "execution_count": 14,
   "metadata": {},
   "outputs": [
    {
     "data": {
      "text/html": [
       "<div>\n",
       "<style scoped>\n",
       "    .dataframe tbody tr th:only-of-type {\n",
       "        vertical-align: middle;\n",
       "    }\n",
       "\n",
       "    .dataframe tbody tr th {\n",
       "        vertical-align: top;\n",
       "    }\n",
       "\n",
       "    .dataframe thead th {\n",
       "        text-align: right;\n",
       "    }\n",
       "</style>\n",
       "<table border=\"1\" class=\"dataframe\">\n",
       "  <thead>\n",
       "    <tr style=\"text-align: right;\">\n",
       "      <th></th>\n",
       "      <th>n</th>\n",
       "      <th>exemptions</th>\n",
       "      <th>Percent Vaccinated</th>\n",
       "      <th>High School Graduate</th>\n",
       "      <th>Bachelors</th>\n",
       "      <th>Graduate Degree</th>\n",
       "      <th>High School or Higher</th>\n",
       "      <th>Bachelors or Higher</th>\n",
       "      <th>No High School Diploma</th>\n",
       "      <th>Population</th>\n",
       "      <th>Percent Insured</th>\n",
       "      <th>Median Income</th>\n",
       "      <th>Mean Income</th>\n",
       "      <th>Per capita income</th>\n",
       "      <th>Mean - Median</th>\n",
       "      <th>Unemployment Percentage</th>\n",
       "    </tr>\n",
       "  </thead>\n",
       "  <tbody>\n",
       "    <tr>\n",
       "      <th>count</th>\n",
       "      <td>58.000000</td>\n",
       "      <td>58.000000</td>\n",
       "      <td>58.000000</td>\n",
       "      <td>58.000000</td>\n",
       "      <td>58.000000</td>\n",
       "      <td>58.000000</td>\n",
       "      <td>58.000000</td>\n",
       "      <td>58.000000</td>\n",
       "      <td>58.000000</td>\n",
       "      <td>5.800000e+01</td>\n",
       "      <td>58.000000</td>\n",
       "      <td>58.000000</td>\n",
       "      <td>58.000000</td>\n",
       "      <td>58.000000</td>\n",
       "      <td>58.000000</td>\n",
       "      <td>58.000000</td>\n",
       "    </tr>\n",
       "    <tr>\n",
       "      <th>mean</th>\n",
       "      <td>45126.844828</td>\n",
       "      <td>1248.482759</td>\n",
       "      <td>95.283966</td>\n",
       "      <td>23.500000</td>\n",
       "      <td>16.513793</td>\n",
       "      <td>9.008621</td>\n",
       "      <td>83.201724</td>\n",
       "      <td>25.518966</td>\n",
       "      <td>16.791379</td>\n",
       "      <td>6.474321e+05</td>\n",
       "      <td>84.543103</td>\n",
       "      <td>56034.362069</td>\n",
       "      <td>75117.965517</td>\n",
       "      <td>27604.344828</td>\n",
       "      <td>19083.603448</td>\n",
       "      <td>6.939655</td>\n",
       "    </tr>\n",
       "    <tr>\n",
       "      <th>std</th>\n",
       "      <td>94967.489473</td>\n",
       "      <td>2156.439929</td>\n",
       "      <td>3.772534</td>\n",
       "      <td>4.719761</td>\n",
       "      <td>5.889224</td>\n",
       "      <td>4.892934</td>\n",
       "      <td>7.471337</td>\n",
       "      <td>10.503424</td>\n",
       "      <td>7.471332</td>\n",
       "      <td>1.430881e+06</td>\n",
       "      <td>3.659120</td>\n",
       "      <td>14428.471908</td>\n",
       "      <td>20514.134329</td>\n",
       "      <td>8198.398555</td>\n",
       "      <td>7276.412905</td>\n",
       "      <td>1.656454</td>\n",
       "    </tr>\n",
       "    <tr>\n",
       "      <th>min</th>\n",
       "      <td>56.000000</td>\n",
       "      <td>2.000000</td>\n",
       "      <td>79.860000</td>\n",
       "      <td>12.200000</td>\n",
       "      <td>8.200000</td>\n",
       "      <td>3.100000</td>\n",
       "      <td>65.200000</td>\n",
       "      <td>12.500000</td>\n",
       "      <td>5.700000</td>\n",
       "      <td>1.202000e+03</td>\n",
       "      <td>77.200000</td>\n",
       "      <td>35997.000000</td>\n",
       "      <td>50453.000000</td>\n",
       "      <td>16409.000000</td>\n",
       "      <td>7780.000000</td>\n",
       "      <td>3.200000</td>\n",
       "    </tr>\n",
       "    <tr>\n",
       "      <th>25%</th>\n",
       "      <td>2241.000000</td>\n",
       "      <td>140.250000</td>\n",
       "      <td>92.812500</td>\n",
       "      <td>19.875000</td>\n",
       "      <td>12.175000</td>\n",
       "      <td>5.400000</td>\n",
       "      <td>78.325000</td>\n",
       "      <td>18.200000</td>\n",
       "      <td>11.225000</td>\n",
       "      <td>4.610725e+04</td>\n",
       "      <td>81.275000</td>\n",
       "      <td>44717.250000</td>\n",
       "      <td>60530.750000</td>\n",
       "      <td>21754.250000</td>\n",
       "      <td>14957.000000</td>\n",
       "      <td>5.800000</td>\n",
       "    </tr>\n",
       "    <tr>\n",
       "      <th>50%</th>\n",
       "      <td>12741.000000</td>\n",
       "      <td>517.000000</td>\n",
       "      <td>96.305000</td>\n",
       "      <td>24.250000</td>\n",
       "      <td>14.850000</td>\n",
       "      <td>7.750000</td>\n",
       "      <td>85.650000</td>\n",
       "      <td>22.450000</td>\n",
       "      <td>14.350000</td>\n",
       "      <td>1.787605e+05</td>\n",
       "      <td>84.800000</td>\n",
       "      <td>53302.000000</td>\n",
       "      <td>69600.000000</td>\n",
       "      <td>26190.000000</td>\n",
       "      <td>17078.500000</td>\n",
       "      <td>6.800000</td>\n",
       "    </tr>\n",
       "    <tr>\n",
       "      <th>75%</th>\n",
       "      <td>43476.000000</td>\n",
       "      <td>1480.500000</td>\n",
       "      <td>98.122500</td>\n",
       "      <td>26.775000</td>\n",
       "      <td>20.875000</td>\n",
       "      <td>11.550000</td>\n",
       "      <td>88.775000</td>\n",
       "      <td>32.100000</td>\n",
       "      <td>21.675000</td>\n",
       "      <td>6.490290e+05</td>\n",
       "      <td>87.600000</td>\n",
       "      <td>63946.750000</td>\n",
       "      <td>84831.500000</td>\n",
       "      <td>30913.750000</td>\n",
       "      <td>22288.000000</td>\n",
       "      <td>8.300000</td>\n",
       "    </tr>\n",
       "    <tr>\n",
       "      <th>max</th>\n",
       "      <td>643340.000000</td>\n",
       "      <td>12228.000000</td>\n",
       "      <td>99.560000</td>\n",
       "      <td>32.800000</td>\n",
       "      <td>32.200000</td>\n",
       "      <td>24.000000</td>\n",
       "      <td>94.300000</td>\n",
       "      <td>54.800000</td>\n",
       "      <td>34.900000</td>\n",
       "      <td>9.902803e+06</td>\n",
       "      <td>91.700000</td>\n",
       "      <td>93854.000000</td>\n",
       "      <td>141535.000000</td>\n",
       "      <td>58004.000000</td>\n",
       "      <td>50006.000000</td>\n",
       "      <td>10.600000</td>\n",
       "    </tr>\n",
       "  </tbody>\n",
       "</table>\n",
       "</div>"
      ],
      "text/plain": [
       "                   n    exemptions  Percent Vaccinated  High School Graduate  \\\n",
       "count      58.000000     58.000000           58.000000             58.000000   \n",
       "mean    45126.844828   1248.482759           95.283966             23.500000   \n",
       "std     94967.489473   2156.439929            3.772534              4.719761   \n",
       "min        56.000000      2.000000           79.860000             12.200000   \n",
       "25%      2241.000000    140.250000           92.812500             19.875000   \n",
       "50%     12741.000000    517.000000           96.305000             24.250000   \n",
       "75%     43476.000000   1480.500000           98.122500             26.775000   \n",
       "max    643340.000000  12228.000000           99.560000             32.800000   \n",
       "\n",
       "       Bachelors  Graduate Degree  High School or Higher  Bachelors or Higher  \\\n",
       "count  58.000000        58.000000              58.000000            58.000000   \n",
       "mean   16.513793         9.008621              83.201724            25.518966   \n",
       "std     5.889224         4.892934               7.471337            10.503424   \n",
       "min     8.200000         3.100000              65.200000            12.500000   \n",
       "25%    12.175000         5.400000              78.325000            18.200000   \n",
       "50%    14.850000         7.750000              85.650000            22.450000   \n",
       "75%    20.875000        11.550000              88.775000            32.100000   \n",
       "max    32.200000        24.000000              94.300000            54.800000   \n",
       "\n",
       "       No High School Diploma    Population  Percent Insured  Median Income  \\\n",
       "count               58.000000  5.800000e+01        58.000000      58.000000   \n",
       "mean                16.791379  6.474321e+05        84.543103   56034.362069   \n",
       "std                  7.471332  1.430881e+06         3.659120   14428.471908   \n",
       "min                  5.700000  1.202000e+03        77.200000   35997.000000   \n",
       "25%                 11.225000  4.610725e+04        81.275000   44717.250000   \n",
       "50%                 14.350000  1.787605e+05        84.800000   53302.000000   \n",
       "75%                 21.675000  6.490290e+05        87.600000   63946.750000   \n",
       "max                 34.900000  9.902803e+06        91.700000   93854.000000   \n",
       "\n",
       "         Mean Income  Per capita income  Mean - Median  \\\n",
       "count      58.000000          58.000000      58.000000   \n",
       "mean    75117.965517       27604.344828   19083.603448   \n",
       "std     20514.134329        8198.398555    7276.412905   \n",
       "min     50453.000000       16409.000000    7780.000000   \n",
       "25%     60530.750000       21754.250000   14957.000000   \n",
       "50%     69600.000000       26190.000000   17078.500000   \n",
       "75%     84831.500000       30913.750000   22288.000000   \n",
       "max    141535.000000       58004.000000   50006.000000   \n",
       "\n",
       "       Unemployment Percentage  \n",
       "count                58.000000  \n",
       "mean                  6.939655  \n",
       "std                   1.656454  \n",
       "min                   3.200000  \n",
       "25%                   5.800000  \n",
       "50%                   6.800000  \n",
       "75%                   8.300000  \n",
       "max                  10.600000  "
      ]
     },
     "execution_count": 14,
     "metadata": {},
     "output_type": "execute_result"
    }
   ],
   "source": [
    "# Get some basic stats about the data\n",
    "merged_df.describe()"
   ]
  },
  {
   "cell_type": "code",
   "execution_count": 15,
   "metadata": {},
   "outputs": [
    {
     "data": {
      "text/plain": [
       "<matplotlib.axes._subplots.AxesSubplot at 0x1272cbb38>"
      ]
     },
     "execution_count": 15,
     "metadata": {},
     "output_type": "execute_result"
    },
    {
     "data": {
      "image/png": "[encoded data removed]",
      "text/plain": [
       "<Figure size 432x288 with 1 Axes>"
      ]
     },
     "metadata": {
      "needs_background": "light"
     },
     "output_type": "display_data"
    }
   ],
   "source": [
    "# Some visualizations of the vacination rates\n",
    "sns.boxplot(x='Percent Vaccinated', data=merged_df)"
   ]
  },
  {
   "cell_type": "code",
   "execution_count": 16,
   "metadata": {},
   "outputs": [
    {
     "name": "stdout",
     "output_type": "stream",
     "text": [
      "count    58.000000\n",
      "mean     95.283966\n",
      "std       3.772534\n",
      "min      79.860000\n",
      "25%      92.812500\n",
      "50%      96.305000\n",
      "75%      98.122500\n",
      "max      99.560000\n",
      "Name: Percent Vaccinated, dtype: float64\n"
     ]
    },
    {
     "data": {
      "text/plain": [
       "<matplotlib.axes._subplots.AxesSubplot at 0x126b10048>"
      ]
     },
     "execution_count": 16,
     "metadata": {},
     "output_type": "execute_result"
    },
    {
     "data": {
      "image/png": "[encoded data removed]",
      "text/plain": [
       "<Figure size 432x288 with 1 Axes>"
      ]
     },
     "metadata": {
      "needs_background": "light"
     },
     "output_type": "display_data"
    }
   ],
   "source": [
    "# Some Descriptive data and Probabability density function, looking for outliers\n",
    "num_of_bins = 20\n",
    "print(merged_df['Percent Vaccinated'].describe())\n",
    "sns.distplot(merged_df['Percent Vaccinated'], bins=num_of_bins)"
   ]
  },
  {
   "cell_type": "code",
   "execution_count": 17,
   "metadata": {
    "scrolled": true
   },
   "outputs": [
    {
     "data": {
      "text/html": [
       "<div>\n",
       "<style scoped>\n",
       "    .dataframe tbody tr th:only-of-type {\n",
       "        vertical-align: middle;\n",
       "    }\n",
       "\n",
       "    .dataframe tbody tr th {\n",
       "        vertical-align: top;\n",
       "    }\n",
       "\n",
       "    .dataframe thead th {\n",
       "        text-align: right;\n",
       "    }\n",
       "</style>\n",
       "<table border=\"1\" class=\"dataframe\">\n",
       "  <thead>\n",
       "    <tr style=\"text-align: right;\">\n",
       "      <th></th>\n",
       "      <th>County</th>\n",
       "      <th>n</th>\n",
       "      <th>exemptions</th>\n",
       "      <th>Percent Vaccinated</th>\n",
       "      <th>High School Graduate</th>\n",
       "      <th>Bachelors</th>\n",
       "      <th>Graduate Degree</th>\n",
       "      <th>High School or Higher</th>\n",
       "      <th>Bachelors or Higher</th>\n",
       "      <th>No High School Diploma</th>\n",
       "      <th>Population</th>\n",
       "      <th>Percent Insured</th>\n",
       "      <th>Median Income</th>\n",
       "      <th>Mean Income</th>\n",
       "      <th>Per capita income</th>\n",
       "      <th>Mean - Median</th>\n",
       "      <th>Unemployment Percentage</th>\n",
       "    </tr>\n",
       "  </thead>\n",
       "  <tbody>\n",
       "    <tr>\n",
       "      <th>28</th>\n",
       "      <td>Nevada</td>\n",
       "      <td>3998</td>\n",
       "      <td>805</td>\n",
       "      <td>79.86</td>\n",
       "      <td>20.8</td>\n",
       "      <td>21.4</td>\n",
       "      <td>11.4</td>\n",
       "      <td>94.3</td>\n",
       "      <td>32.8</td>\n",
       "      <td>5.7</td>\n",
       "      <td>97694</td>\n",
       "      <td>85.5</td>\n",
       "      <td>56949</td>\n",
       "      <td>75742</td>\n",
       "      <td>32117</td>\n",
       "      <td>18793</td>\n",
       "      <td>6.0</td>\n",
       "    </tr>\n",
       "    <tr>\n",
       "      <th>52</th>\n",
       "      <td>Trinity</td>\n",
       "      <td>473</td>\n",
       "      <td>70</td>\n",
       "      <td>85.20</td>\n",
       "      <td>27.7</td>\n",
       "      <td>16.8</td>\n",
       "      <td>5.2</td>\n",
       "      <td>90.7</td>\n",
       "      <td>22.0</td>\n",
       "      <td>9.4</td>\n",
       "      <td>13304</td>\n",
       "      <td>79.4</td>\n",
       "      <td>36862</td>\n",
       "      <td>52729</td>\n",
       "      <td>23145</td>\n",
       "      <td>15867</td>\n",
       "      <td>6.1</td>\n",
       "    </tr>\n",
       "    <tr>\n",
       "      <th>54</th>\n",
       "      <td>Tuolumne</td>\n",
       "      <td>2331</td>\n",
       "      <td>265</td>\n",
       "      <td>88.63</td>\n",
       "      <td>28.7</td>\n",
       "      <td>13.5</td>\n",
       "      <td>6.3</td>\n",
       "      <td>89.6</td>\n",
       "      <td>19.8</td>\n",
       "      <td>10.4</td>\n",
       "      <td>50986</td>\n",
       "      <td>87.8</td>\n",
       "      <td>48493</td>\n",
       "      <td>62446</td>\n",
       "      <td>26063</td>\n",
       "      <td>13953</td>\n",
       "      <td>7.5</td>\n",
       "    </tr>\n",
       "    <tr>\n",
       "      <th>11</th>\n",
       "      <td>Humboldt</td>\n",
       "      <td>7511</td>\n",
       "      <td>789</td>\n",
       "      <td>89.50</td>\n",
       "      <td>25.9</td>\n",
       "      <td>18.5</td>\n",
       "      <td>9.0</td>\n",
       "      <td>90.3</td>\n",
       "      <td>27.5</td>\n",
       "      <td>9.6</td>\n",
       "      <td>133758</td>\n",
       "      <td>81.2</td>\n",
       "      <td>42153</td>\n",
       "      <td>56409</td>\n",
       "      <td>23516</td>\n",
       "      <td>14256</td>\n",
       "      <td>6.7</td>\n",
       "    </tr>\n",
       "    <tr>\n",
       "      <th>46</th>\n",
       "      <td>Siskiyou</td>\n",
       "      <td>2211</td>\n",
       "      <td>211</td>\n",
       "      <td>90.46</td>\n",
       "      <td>26.0</td>\n",
       "      <td>16.2</td>\n",
       "      <td>7.8</td>\n",
       "      <td>88.8</td>\n",
       "      <td>24.0</td>\n",
       "      <td>11.2</td>\n",
       "      <td>44035</td>\n",
       "      <td>85.8</td>\n",
       "      <td>37495</td>\n",
       "      <td>50453</td>\n",
       "      <td>22482</td>\n",
       "      <td>12958</td>\n",
       "      <td>7.5</td>\n",
       "    </tr>\n",
       "  </tbody>\n",
       "</table>\n",
       "</div>"
      ],
      "text/plain": [
       "      County     n  exemptions  Percent Vaccinated  High School Graduate  \\\n",
       "28    Nevada  3998         805               79.86                  20.8   \n",
       "52   Trinity   473          70               85.20                  27.7   \n",
       "54  Tuolumne  2331         265               88.63                  28.7   \n",
       "11  Humboldt  7511         789               89.50                  25.9   \n",
       "46  Siskiyou  2211         211               90.46                  26.0   \n",
       "\n",
       "    Bachelors  Graduate Degree  High School or Higher  Bachelors or Higher  \\\n",
       "28       21.4             11.4                   94.3                 32.8   \n",
       "52       16.8              5.2                   90.7                 22.0   \n",
       "54       13.5              6.3                   89.6                 19.8   \n",
       "11       18.5              9.0                   90.3                 27.5   \n",
       "46       16.2              7.8                   88.8                 24.0   \n",
       "\n",
       "    No High School Diploma  Population  Percent Insured  Median Income  \\\n",
       "28                     5.7       97694             85.5          56949   \n",
       "52                     9.4       13304             79.4          36862   \n",
       "54                    10.4       50986             87.8          48493   \n",
       "11                     9.6      133758             81.2          42153   \n",
       "46                    11.2       44035             85.8          37495   \n",
       "\n",
       "    Mean Income  Per capita income  Mean - Median  Unemployment Percentage  \n",
       "28        75742              32117          18793                      6.0  \n",
       "52        52729              23145          15867                      6.1  \n",
       "54        62446              26063          13953                      7.5  \n",
       "11        56409              23516          14256                      6.7  \n",
       "46        50453              22482          12958                      7.5  "
      ]
     },
     "execution_count": 17,
     "metadata": {},
     "output_type": "execute_result"
    }
   ],
   "source": [
    "# Look at the least vaccinated counties\n",
    "merged_df.head()"
   ]
  },
  {
   "cell_type": "code",
   "execution_count": 18,
   "metadata": {},
   "outputs": [
    {
     "data": {
      "image/png": "[encoded data removed]",
      "text/plain": [
       "<Figure size 720x576 with 1 Axes>"
      ]
     },
     "metadata": {
      "needs_background": "light"
     },
     "output_type": "display_data"
    }
   ],
   "source": [
    "fig, ax = plt.subplots(figsize=(10,8))\n",
    "sns.barplot(x='County', y='Population', data=merged_df, ax=ax)\n",
    "ax.tick_params(rotation=90)\n",
    "ax.set_title('County Populations')\n",
    "fig.tight_layout()"
   ]
  },
  {
   "cell_type": "markdown",
   "metadata": {},
   "source": [
    "## Visualizations Explorations"
   ]
  },
  {
   "cell_type": "code",
   "execution_count": 19,
   "metadata": {},
   "outputs": [
    {
     "data": {
      "image/png": "[encoded data removed]",
      "text/plain": [
       "<Figure size 1440x360 with 4 Axes>"
      ]
     },
     "metadata": {
      "needs_background": "light"
     },
     "output_type": "display_data"
    },
    {
     "data": {
      "image/png": "[encoded data removed]",
      "text/plain": [
       "<Figure size 1440x360 with 4 Axes>"
      ]
     },
     "metadata": {
      "needs_background": "light"
     },
     "output_type": "display_data"
    },
    {
     "data": {
      "image/png": "[encoded data removed]",
      "text/plain": [
       "<Figure size 1440x360 with 4 Axes>"
      ]
     },
     "metadata": {
      "needs_background": "light"
     },
     "output_type": "display_data"
    },
    {
     "data": {
      "image/png": "[encoded data removed]",
      "text/plain": [
       "<Figure size 360x360 with 1 Axes>"
      ]
     },
     "metadata": {
      "needs_background": "light"
     },
     "output_type": "display_data"
    }
   ],
   "source": [
    "# Look at bubble plots for different independent variables\n",
    "ind_cols = merged_df.columns[4:]\n",
    "ind_cols\n",
    "\n",
    "for idx in range(0, len(ind_cols), 4):\n",
    "    sns.pairplot(merged_df, y_vars='Percent Vaccinated', x_vars=ind_cols[idx: idx+4], kind='reg',height=5)"
   ]
  },
  {
   "cell_type": "markdown",
   "metadata": {},
   "source": [
    "## Education Analysis"
   ]
  },
  {
   "cell_type": "code",
   "execution_count": 20,
   "metadata": {},
   "outputs": [
    {
     "name": "stdout",
     "output_type": "stream",
     "text": [
      "                            OLS Regression Results                            \n",
      "==============================================================================\n",
      "Dep. Variable:     Percent Vaccinated   R-squared:                       0.376\n",
      "Model:                            OLS   Adj. R-squared:                  0.365\n",
      "Method:                 Least Squares   F-statistic:                     33.76\n",
      "Date:                Thu, 04 Apr 2019   Prob (F-statistic):           3.08e-07\n",
      "Time:                        18:39:40   Log-Likelihood:                -145.12\n",
      "No. Observations:                  58   AIC:                             294.2\n",
      "Df Residuals:                      56   BIC:                             298.4\n",
      "Df Model:                           1                                         \n",
      "Covariance Type:            nonrobust                                         \n",
      "=========================================================================================\n",
      "                            coef    std err          t      P>|t|      [0.025      0.975]\n",
      "-----------------------------------------------------------------------------------------\n",
      "const                   121.0498      4.452     27.192      0.000     112.132     129.968\n",
      "High School or Higher    -0.3097      0.053     -5.811      0.000      -0.416      -0.203\n",
      "==============================================================================\n",
      "Omnibus:                       23.500   Durbin-Watson:                   0.494\n",
      "Prob(Omnibus):                  0.000   Jarque-Bera (JB):               45.458\n",
      "Skew:                          -1.266   Prob(JB):                     1.35e-10\n",
      "Kurtosis:                       6.521   Cond. No.                         942.\n",
      "==============================================================================\n",
      "\n",
      "Warnings:\n",
      "[1] Standard Errors assume that the covariance matrix of the errors is correctly specified.\n"
     ]
    },
    {
     "name": "stderr",
     "output_type": "stream",
     "text": [
      "/Users/TheDoctor/.virtualenvs/data-analysis-env/lib/python3.7/site-packages/numpy/core/fromnumeric.py:2389: FutureWarning: Method .ptp is deprecated and will be removed in a future version. Use numpy.ptp instead.\n",
      "  return ptp(axis=axis, out=out, **kwargs)\n"
     ]
    }
   ],
   "source": [
    "# Look at linear regression for the High Schol or Higher group\n",
    "X = merged_df['High School or Higher']\n",
    "Y = merged_df['Percent Vaccinated']\n",
    "\n",
    "X = sm.add_constant(X)\n",
    "\n",
    "model = sm.OLS(Y, X).fit()\n",
    "predication = model.predict(X)\n",
    "\n",
    "print_model = model.summary()\n",
    "print(print_model)"
   ]
  },
  {
   "cell_type": "code",
   "execution_count": 21,
   "metadata": {},
   "outputs": [
    {
     "name": "stdout",
     "output_type": "stream",
     "text": [
      "                            OLS Regression Results                            \n",
      "==============================================================================\n",
      "Dep. Variable:     Percent Vaccinated   R-squared:                       0.014\n",
      "Model:                            OLS   Adj. R-squared:                 -0.004\n",
      "Method:                 Least Squares   F-statistic:                    0.7838\n",
      "Date:                Thu, 04 Apr 2019   Prob (F-statistic):              0.380\n",
      "Time:                        18:39:40   Log-Likelihood:                -158.40\n",
      "No. Observations:                  58   AIC:                             320.8\n",
      "Df Residuals:                      56   BIC:                             324.9\n",
      "Df Model:                           1                                         \n",
      "Covariance Type:            nonrobust                                         \n",
      "=======================================================================================\n",
      "                          coef    std err          t      P>|t|      [0.025      0.975]\n",
      "---------------------------------------------------------------------------------------\n",
      "const                  96.3608      1.314     73.351      0.000      93.729      98.992\n",
      "Bachelors or Higher    -0.0422      0.048     -0.885      0.380      -0.138       0.053\n",
      "==============================================================================\n",
      "Omnibus:                       28.651   Durbin-Watson:                   0.074\n",
      "Prob(Omnibus):                  0.000   Jarque-Bera (JB):               53.938\n",
      "Skew:                          -1.623   Prob(JB):                     1.94e-12\n",
      "Kurtosis:                       6.432   Cond. No.                         73.0\n",
      "==============================================================================\n",
      "\n",
      "Warnings:\n",
      "[1] Standard Errors assume that the covariance matrix of the errors is correctly specified.\n"
     ]
    }
   ],
   "source": [
    "# Look at Bachelors or higher\n",
    "X = merged_df['Bachelors or Higher']\n",
    "Y = merged_df['Percent Vaccinated']\n",
    "\n",
    "X = sm.add_constant(X)\n",
    "\n",
    "model = sm.OLS(Y, X).fit()\n",
    "predication = model.predict(X)\n",
    "\n",
    "print_model = model.summary()\n",
    "print(print_model)"
   ]
  },
  {
   "cell_type": "markdown",
   "metadata": {},
   "source": [
    "#### Findings\n",
    "What does it mean to have a low p-value and a low r-squared value for High School or Higher Education regression model\n",
    "    - There seems to be a correlation but there's also a lot of variance hurting the predictive capabilities of the model"
   ]
  },
  {
   "cell_type": "markdown",
   "metadata": {},
   "source": [
    "### Considering Bachelors or Higher has no correlation, but High School or Higher does. Let's look at them on a more individual basis."
   ]
  },
  {
   "cell_type": "code",
   "execution_count": 22,
   "metadata": {},
   "outputs": [
    {
     "name": "stdout",
     "output_type": "stream",
     "text": [
      "                            OLS Regression Results                            \n",
      "==============================================================================\n",
      "Dep. Variable:     Percent Vaccinated   R-squared:                       0.375\n",
      "Model:                            OLS   Adj. R-squared:                  0.364\n",
      "Method:                 Least Squares   F-statistic:                     33.61\n",
      "Date:                Thu, 04 Apr 2019   Prob (F-statistic):           3.24e-07\n",
      "Time:                        18:39:40   Log-Likelihood:                -145.17\n",
      "No. Observations:                  58   AIC:                             294.3\n",
      "Df Residuals:                      56   BIC:                             298.5\n",
      "Df Model:                           1                                         \n",
      "Covariance Type:            nonrobust                                         \n",
      "==========================================================================================\n",
      "                             coef    std err          t      P>|t|      [0.025      0.975]\n",
      "------------------------------------------------------------------------------------------\n",
      "const                     90.0916      0.979     92.030      0.000      88.131      92.053\n",
      "No High School Diploma     0.3092      0.053      5.797      0.000       0.202       0.416\n",
      "==============================================================================\n",
      "Omnibus:                       23.563   Durbin-Watson:                   0.493\n",
      "Prob(Omnibus):                  0.000   Jarque-Bera (JB):               45.569\n",
      "Skew:                          -1.270   Prob(JB):                     1.27e-10\n",
      "Kurtosis:                       6.522   Cond. No.                         45.6\n",
      "==============================================================================\n",
      "\n",
      "Warnings:\n",
      "[1] Standard Errors assume that the covariance matrix of the errors is correctly specified.\n"
     ]
    }
   ],
   "source": [
    "# High School Diploma\n",
    "X = merged_df['No High School Diploma']\n",
    "Y = merged_df['Percent Vaccinated']\n",
    "\n",
    "X = sm.add_constant(X)\n",
    "\n",
    "model = sm.OLS(Y, X).fit()\n",
    "predication = model.predict(X)\n",
    "\n",
    "print_model = model.summary()\n",
    "print(print_model)"
   ]
  },
  {
   "cell_type": "code",
   "execution_count": 23,
   "metadata": {},
   "outputs": [
    {
     "name": "stdout",
     "output_type": "stream",
     "text": [
      "                            OLS Regression Results                            \n",
      "==============================================================================\n",
      "Dep. Variable:     Percent Vaccinated   R-squared:                       0.006\n",
      "Model:                            OLS   Adj. R-squared:                 -0.012\n",
      "Method:                 Least Squares   F-statistic:                    0.3305\n",
      "Date:                Thu, 04 Apr 2019   Prob (F-statistic):              0.568\n",
      "Time:                        18:39:40   Log-Likelihood:                -158.63\n",
      "No. Observations:                  58   AIC:                             321.3\n",
      "Df Residuals:                      56   BIC:                             325.4\n",
      "Df Model:                           1                                         \n",
      "Covariance Type:            nonrobust                                         \n",
      "========================================================================================\n",
      "                           coef    std err          t      P>|t|      [0.025      0.975]\n",
      "----------------------------------------------------------------------------------------\n",
      "const                   96.7226      2.552     37.903      0.000      91.611     101.835\n",
      "High School Graduate    -0.0612      0.106     -0.575      0.568      -0.275       0.152\n",
      "==============================================================================\n",
      "Omnibus:                       29.650   Durbin-Watson:                   0.077\n",
      "Prob(Omnibus):                  0.000   Jarque-Bera (JB):               59.885\n",
      "Skew:                          -1.633   Prob(JB):                     9.91e-14\n",
      "Kurtosis:                       6.757   Cond. No.                         123.\n",
      "==============================================================================\n",
      "\n",
      "Warnings:\n",
      "[1] Standard Errors assume that the covariance matrix of the errors is correctly specified.\n"
     ]
    }
   ],
   "source": [
    "# High School Diploma\n",
    "X = merged_df['High School Graduate']\n",
    "Y = merged_df['Percent Vaccinated']\n",
    "\n",
    "X = sm.add_constant(X)\n",
    "\n",
    "model = sm.OLS(Y, X).fit()\n",
    "predication = model.predict(X)\n",
    "\n",
    "print_model = model.summary()\n",
    "print(print_model)"
   ]
  },
  {
   "cell_type": "code",
   "execution_count": 24,
   "metadata": {},
   "outputs": [
    {
     "name": "stdout",
     "output_type": "stream",
     "text": [
      "                            OLS Regression Results                            \n",
      "==============================================================================\n",
      "Dep. Variable:     Percent Vaccinated   R-squared:                       0.026\n",
      "Model:                            OLS   Adj. R-squared:                  0.009\n",
      "Method:                 Least Squares   F-statistic:                     1.493\n",
      "Date:                Thu, 04 Apr 2019   Prob (F-statistic):              0.227\n",
      "Time:                        18:39:40   Log-Likelihood:                -158.04\n",
      "No. Observations:                  58   AIC:                             320.1\n",
      "Df Residuals:                      56   BIC:                             324.2\n",
      "Df Model:                           1                                         \n",
      "Covariance Type:            nonrobust                                         \n",
      "==============================================================================\n",
      "                 coef    std err          t      P>|t|      [0.025      0.975]\n",
      "------------------------------------------------------------------------------\n",
      "const         96.9888      1.480     65.544      0.000      94.024      99.953\n",
      "Bachelors     -0.1032      0.084     -1.222      0.227      -0.272       0.066\n",
      "==============================================================================\n",
      "Omnibus:                       27.752   Durbin-Watson:                   0.092\n",
      "Prob(Omnibus):                  0.000   Jarque-Bera (JB):               50.599\n",
      "Skew:                          -1.589   Prob(JB):                     1.03e-11\n",
      "Kurtosis:                       6.293   Cond. No.                         52.7\n",
      "==============================================================================\n",
      "\n",
      "Warnings:\n",
      "[1] Standard Errors assume that the covariance matrix of the errors is correctly specified.\n"
     ]
    }
   ],
   "source": [
    "# Bachelors\n",
    "X = merged_df['Bachelors']\n",
    "Y = merged_df['Percent Vaccinated']\n",
    "\n",
    "X = sm.add_constant(X)\n",
    "\n",
    "model = sm.OLS(Y, X).fit()\n",
    "predication = model.predict(X)\n",
    "\n",
    "print_model = model.summary()\n",
    "print(print_model)"
   ]
  },
  {
   "cell_type": "code",
   "execution_count": 25,
   "metadata": {},
   "outputs": [
    {
     "name": "stdout",
     "output_type": "stream",
     "text": [
      "                            OLS Regression Results                            \n",
      "==============================================================================\n",
      "Dep. Variable:     Percent Vaccinated   R-squared:                       0.003\n",
      "Model:                            OLS   Adj. R-squared:                 -0.014\n",
      "Method:                 Least Squares   F-statistic:                    0.1859\n",
      "Date:                Thu, 04 Apr 2019   Prob (F-statistic):              0.668\n",
      "Time:                        18:39:40   Log-Likelihood:                -158.71\n",
      "No. Observations:                  58   AIC:                             321.4\n",
      "Df Residuals:                      56   BIC:                             325.5\n",
      "Df Model:                           1                                         \n",
      "Covariance Type:            nonrobust                                         \n",
      "===================================================================================\n",
      "                      coef    std err          t      P>|t|      [0.025      0.975]\n",
      "-----------------------------------------------------------------------------------\n",
      "const              95.6835      1.052     90.918      0.000      93.575      97.792\n",
      "Graduate Degree    -0.0444      0.103     -0.431      0.668      -0.250       0.162\n",
      "==============================================================================\n",
      "Omnibus:                       29.201   Durbin-Watson:                   0.060\n",
      "Prob(Omnibus):                  0.000   Jarque-Bera (JB):               56.369\n",
      "Skew:                          -1.640   Prob(JB):                     5.75e-13\n",
      "Kurtosis:                       6.546   Cond. No.                         21.7\n",
      "==============================================================================\n",
      "\n",
      "Warnings:\n",
      "[1] Standard Errors assume that the covariance matrix of the errors is correctly specified.\n"
     ]
    }
   ],
   "source": [
    "# Graduate\n",
    "X = merged_df['Graduate Degree']\n",
    "Y = merged_df['Percent Vaccinated']\n",
    "\n",
    "X = sm.add_constant(X)\n",
    "\n",
    "model = sm.OLS(Y, X).fit()\n",
    "predication = model.predict(X)\n",
    "\n",
    "print_model = model.summary()\n",
    "print(print_model)"
   ]
  },
  {
   "cell_type": "markdown",
   "metadata": {},
   "source": [
    "There doesn't appear to be any correlation with any of the individual education ranges."
   ]
  },
  {
   "cell_type": "markdown",
   "metadata": {},
   "source": [
    "#### Findings\n",
    "There is a significant **positive** correlation between the percentage of the population no High School Diploma and percent vacinated."
   ]
  },
  {
   "cell_type": "markdown",
   "metadata": {},
   "source": [
    "## Insurance"
   ]
  },
  {
   "cell_type": "code",
   "execution_count": 26,
   "metadata": {},
   "outputs": [
    {
     "name": "stdout",
     "output_type": "stream",
     "text": [
      "                            OLS Regression Results                            \n",
      "==============================================================================\n",
      "Dep. Variable:     Percent Vaccinated   R-squared:                       0.042\n",
      "Model:                            OLS   Adj. R-squared:                  0.025\n",
      "Method:                 Least Squares   F-statistic:                     2.478\n",
      "Date:                Thu, 04 Apr 2019   Prob (F-statistic):              0.121\n",
      "Time:                        18:39:40   Log-Likelihood:                -157.55\n",
      "No. Observations:                  58   AIC:                             319.1\n",
      "Df Residuals:                      56   BIC:                             323.2\n",
      "Df Model:                           1                                         \n",
      "Covariance Type:            nonrobust                                         \n",
      "===================================================================================\n",
      "                      coef    std err          t      P>|t|      [0.025      0.975]\n",
      "-----------------------------------------------------------------------------------\n",
      "const             113.2263     11.409      9.925      0.000      90.372     136.081\n",
      "Percent Insured    -0.2122      0.135     -1.574      0.121      -0.482       0.058\n",
      "==============================================================================\n",
      "Omnibus:                       33.385   Durbin-Watson:                   0.129\n",
      "Prob(Omnibus):                  0.000   Jarque-Bera (JB):               75.827\n",
      "Skew:                          -1.790   Prob(JB):                     3.42e-17\n",
      "Kurtosis:                       7.308   Cond. No.                     1.97e+03\n",
      "==============================================================================\n",
      "\n",
      "Warnings:\n",
      "[1] Standard Errors assume that the covariance matrix of the errors is correctly specified.\n",
      "[2] The condition number is large, 1.97e+03. This might indicate that there are\n",
      "strong multicollinearity or other numerical problems.\n"
     ]
    }
   ],
   "source": [
    "# Percent Insured\n",
    "X = merged_df['Percent Insured']\n",
    "Y = merged_df['Percent Vaccinated']\n",
    "\n",
    "X = sm.add_constant(X)\n",
    "\n",
    "model = sm.OLS(Y, X).fit()\n",
    "predication = model.predict(X)\n",
    "\n",
    "print_model = model.summary()\n",
    "print(print_model)"
   ]
  },
  {
   "cell_type": "code",
   "execution_count": 27,
   "metadata": {},
   "outputs": [
    {
     "name": "stdout",
     "output_type": "stream",
     "text": [
      "                            OLS Regression Results                            \n",
      "==============================================================================\n",
      "Dep. Variable:     Percent Vaccinated   R-squared:                       0.039\n",
      "Model:                            OLS   Adj. R-squared:                  0.022\n",
      "Method:                 Least Squares   F-statistic:                     2.270\n",
      "Date:                Thu, 04 Apr 2019   Prob (F-statistic):              0.138\n",
      "Time:                        18:39:40   Log-Likelihood:                -157.65\n",
      "No. Observations:                  58   AIC:                             319.3\n",
      "Df Residuals:                      56   BIC:                             323.4\n",
      "Df Model:                           1                                         \n",
      "Covariance Type:            nonrobust                                         \n",
      "===========================================================================================\n",
      "                              coef    std err          t      P>|t|      [0.025      0.975]\n",
      "-------------------------------------------------------------------------------------------\n",
      "const                      92.1645      2.128     43.318      0.000      87.902      96.427\n",
      "Unemployment Percentage     0.4495      0.298      1.507      0.138      -0.148       1.047\n",
      "==============================================================================\n",
      "Omnibus:                       28.199   Durbin-Watson:                   0.103\n",
      "Prob(Omnibus):                  0.000   Jarque-Bera (JB):               52.921\n",
      "Skew:                          -1.595   Prob(JB):                     3.22e-12\n",
      "Kurtosis:                       6.424   Cond. No.                         31.5\n",
      "==============================================================================\n",
      "\n",
      "Warnings:\n",
      "[1] Standard Errors assume that the covariance matrix of the errors is correctly specified.\n"
     ]
    }
   ],
   "source": [
    "# Unemployment Rate\n",
    "X = merged_df['Unemployment Percentage']\n",
    "Y = merged_df['Percent Vaccinated']\n",
    "\n",
    "X = sm.add_constant(X)\n",
    "\n",
    "model = sm.OLS(Y, X).fit()\n",
    "predication = model.predict(X)\n",
    "\n",
    "print_model = model.summary()\n",
    "print(print_model)"
   ]
  },
  {
   "cell_type": "markdown",
   "metadata": {},
   "source": [
    "#### Finding: Suprisingly enough, there appears to be no correlation between the uninsured rate and percent vaccinated"
   ]
  },
  {
   "cell_type": "code",
   "execution_count": 28,
   "metadata": {},
   "outputs": [
    {
     "name": "stdout",
     "output_type": "stream",
     "text": [
      "                            OLS Regression Results                            \n",
      "==============================================================================\n",
      "Dep. Variable:     Percent Vaccinated   R-squared:                       0.018\n",
      "Model:                            OLS   Adj. R-squared:                  0.000\n",
      "Method:                 Least Squares   F-statistic:                     1.007\n",
      "Date:                Thu, 04 Apr 2019   Prob (F-statistic):              0.320\n",
      "Time:                        18:39:40   Log-Likelihood:                -158.29\n",
      "No. Observations:                  58   AIC:                             320.6\n",
      "Df Residuals:                      56   BIC:                             324.7\n",
      "Df Model:                           1                                         \n",
      "Covariance Type:            nonrobust                                         \n",
      "=================================================================================\n",
      "                    coef    std err          t      P>|t|      [0.025      0.975]\n",
      "---------------------------------------------------------------------------------\n",
      "const            93.9690      1.401     67.077      0.000      91.163      96.775\n",
      "Mean - Median   6.89e-05   6.87e-05      1.003      0.320   -6.87e-05       0.000\n",
      "==============================================================================\n",
      "Omnibus:                       29.317   Durbin-Watson:                   0.095\n",
      "Prob(Omnibus):                  0.000   Jarque-Bera (JB):               58.298\n",
      "Skew:                          -1.623   Prob(JB):                     2.19e-13\n",
      "Kurtosis:                       6.686   Cond. No.                     5.77e+04\n",
      "==============================================================================\n",
      "\n",
      "Warnings:\n",
      "[1] Standard Errors assume that the covariance matrix of the errors is correctly specified.\n",
      "[2] The condition number is large, 5.77e+04. This might indicate that there are\n",
      "strong multicollinearity or other numerical problems.\n"
     ]
    }
   ],
   "source": [
    "# Unemployment Rate\n",
    "X = merged_df['Mean - Median']\n",
    "Y = merged_df['Percent Vaccinated']\n",
    "\n",
    "X = sm.add_constant(X)\n",
    "\n",
    "model = sm.OLS(Y, X).fit()\n",
    "predication = model.predict(X)\n",
    "\n",
    "print_model = model.summary()\n",
    "print(print_model)"
   ]
  },
  {
   "cell_type": "markdown",
   "metadata": {},
   "source": [
    "## Multi-variant Analysis"
   ]
  },
  {
   "cell_type": "code",
   "execution_count": 29,
   "metadata": {
    "lines_to_next_cell": 2
   },
   "outputs": [
    {
     "name": "stdout",
     "output_type": "stream",
     "text": [
      "                            OLS Regression Results                            \n",
      "==============================================================================\n",
      "Dep. Variable:     Percent Vaccinated   R-squared:                       0.493\n",
      "Model:                            OLS   Adj. R-squared:                  0.474\n",
      "Method:                 Least Squares   F-statistic:                     26.72\n",
      "Date:                Thu, 04 Apr 2019   Prob (F-statistic):           7.81e-09\n",
      "Time:                        18:39:40   Log-Likelihood:                -139.12\n",
      "No. Observations:                  58   AIC:                             284.2\n",
      "Df Residuals:                      55   BIC:                             290.4\n",
      "Df Model:                           2                                         \n",
      "Covariance Type:            nonrobust                                         \n",
      "==========================================================================================\n",
      "                             coef    std err          t      P>|t|      [0.025      0.975]\n",
      "------------------------------------------------------------------------------------------\n",
      "const                     83.8608      1.958     42.838      0.000      79.938      87.784\n",
      "No High School Diploma     0.3655      0.051      7.169      0.000       0.263       0.468\n",
      "Median Income           9.433e-05   2.64e-05      3.573      0.001    4.14e-05       0.000\n",
      "==============================================================================\n",
      "Omnibus:                       24.845   Durbin-Watson:                   0.868\n",
      "Prob(Omnibus):                  0.000   Jarque-Bera (JB):               68.872\n",
      "Skew:                          -1.142   Prob(JB):                     1.11e-15\n",
      "Kurtosis:                       7.826   Cond. No.                     3.15e+05\n",
      "==============================================================================\n",
      "\n",
      "Warnings:\n",
      "[1] Standard Errors assume that the covariance matrix of the errors is correctly specified.\n",
      "[2] The condition number is large, 3.15e+05. This might indicate that there are\n",
      "strong multicollinearity or other numerical problems.\n"
     ]
    }
   ],
   "source": [
    "# Lets look at median income coupled with no High School Diploma\n",
    "# Unemployment Rate\n",
    "X = merged_df[['No High School Diploma', 'Median Income']]\n",
    "Y = merged_df['Percent Vaccinated']\n",
    "\n",
    "X = sm.add_constant(X)\n",
    "\n",
    "model = sm.OLS(Y, X).fit()\n",
    "predication = model.predict(X)\n",
    "\n",
    "print_model = model.summary()\n",
    "print(print_model)"
   ]
  },
  {
   "cell_type": "markdown",
   "metadata": {},
   "source": [
    "# Findings and Next Steps\n",
    "## Findings\n",
    "The following demographic indicators appear to have not correlation or predictive capability for the level of vaccination:\n",
    "- Income\n",
    "- Employment Rate\n",
    "- Insured Rate\n",
    "\n",
    "Education seems to have some correlation with the uninsured rate. Interestingly though the only significant indicator seems to be the percent of the population with *No High School Diploma*.\n"
   ]
  }
 ],
 "metadata": {
  "jupytext": {
   "formats": "ipynb,py:percent"
  },
  "kernelspec": {
   "display_name": "Python 3",
   "language": "python",
   "name": "python3"
  },
  "language_info": {
   "codemirror_mode": {
    "name": "ipython",
    "version": 3
   },
   "file_extension": ".py",
   "mimetype": "text/x-python",
   "name": "python",
   "nbconvert_exporter": "python",
   "pygments_lexer": "ipython3",
   "version": "3.7.2"
  }
 },
 "nbformat": 4,
 "nbformat_minor": 2
}
