{
 "cells": [
  {
   "cell_type": "markdown",
   "metadata": {
    "pycharm": {}
   },
   "source": [
    "# Exploratory Analysis\n",
    "Looking at Vaccination rates per city and county cross-referenced with demographic data to look for any correlations.\n",
    "## Exploration Questions\n",
    "Look at how the following correlate with vaccination rates.\n",
    "- Median Income\n",
    "- Parent Education Level\n",
    "- Median House Price\n",
    "- County Population\n",
    "\n",
    "## Data being used\n",
    "- Kindergarten Immunization records from Kaggle [link](https://www.kaggle.com/broach/california-kindergarten-immunization-rates)\n",
    "- CA census estimates currated by the state [link](http://www.dof.ca.gov/Forecasting/Demographics/Estimates/E-5/)"
   ]
  },
  {
   "cell_type": "markdown",
   "metadata": {
    "pycharm": {}
   },
   "source": [
    "# Imports"
   ]
  },
  {
   "cell_type": "markdown",
   "metadata": {
    "pycharm": {}
   },
   "source": [
    "## Modules and Environment"
   ]
  },
  {
   "cell_type": "code",
   "execution_count": 80,
   "metadata": {
    "pycharm": {
     "is_executing": false
    }
   },
   "outputs": [],
   "source": [
    "import pandas as pd\n",
    "import numpy as np\n",
    "import matplotlib.pyplot as plt\n",
    "import seaborn as sn\n",
    "\n",
    "import subprocess\n",
    "\n",
    "from functools import reduce\n",
    "\n",
    "get_ipython().run_line_magic('config', 'IPCompleter.greedy = True')"
   ]
  },
  {
   "cell_type": "markdown",
   "metadata": {
    "pycharm": {}
   },
   "source": [
    "## Import data and basic cleaning of Data"
   ]
  },
  {
   "cell_type": "markdown",
   "metadata": {
    "pycharm": {}
   },
   "source": [
    "### Immunization Records"
   ]
  },
  {
   "cell_type": "markdown",
   "metadata": {
    "pycharm": {}
   },
   "source": [
    "#### Key for the table\n",
    "- schoolType - Public/Private indicator\n",
    "- COUNTY - name of county in CA\n",
    "- SCHOOL - String label of school (not always consistent across years)\n",
    "- school_code - Unique integer code for each school (consistent across years)\n",
    "- n - Number of students\n",
    "- nMMR - Number of students reporting complete MMR vaccination\n",
    "- nDTP - Number of students reporting DTP vaccination\n",
    "- nPolio - Number of students reporting Polio vaccination\n",
    "- nPBE - Number of students reporting personal beliefs exemption*\n",
    "- nPME - Number of students reporting permanent medical exemption\n",
    "- year - Calendar year (2000:2014) where 2000=2000-2001 school year, 2001=2001-2002 school year, etc."
   ]
  },
  {
   "cell_type": "code",
   "execution_count": 79,
   "metadata": {
    "pycharm": {
     "is_executing": false
    }
   },
   "outputs": [
    {
     "data": {
      "text/html": [
       "<div>\n",
       "<style scoped>\n",
       "    .dataframe tbody tr th:only-of-type {\n",
       "        vertical-align: middle;\n",
       "    }\n",
       "\n",
       "    .dataframe tbody tr th {\n",
       "        vertical-align: top;\n",
       "    }\n",
       "\n",
       "    .dataframe thead th {\n",
       "        text-align: right;\n",
       "    }\n",
       "</style>\n",
       "<table border=\"1\" class=\"dataframe\">\n",
       "  <thead>\n",
       "    <tr style=\"text-align: right;\">\n",
       "      <th></th>\n",
       "      <th>schoolType</th>\n",
       "      <th>COUNTY</th>\n",
       "      <th>SCHOOL</th>\n",
       "      <th>school_code</th>\n",
       "      <th>n</th>\n",
       "      <th>nMMR</th>\n",
       "      <th>nDTP</th>\n",
       "      <th>nPolio</th>\n",
       "      <th>nPBE</th>\n",
       "      <th>nPME</th>\n",
       "      <th>year</th>\n",
       "    </tr>\n",
       "  </thead>\n",
       "  <tbody>\n",
       "    <tr>\n",
       "      <th>0</th>\n",
       "      <td>PRIVATE</td>\n",
       "      <td>ALAMEDA</td>\n",
       "      <td>A CHILD'S WORLD MONTE</td>\n",
       "      <td>7092463</td>\n",
       "      <td>12</td>\n",
       "      <td>12</td>\n",
       "      <td>11</td>\n",
       "      <td>9</td>\n",
       "      <td>0</td>\n",
       "      <td>0</td>\n",
       "      <td>2000</td>\n",
       "    </tr>\n",
       "    <tr>\n",
       "      <th>1</th>\n",
       "      <td>PRIVATE</td>\n",
       "      <td>ALAMEDA</td>\n",
       "      <td>ACAD</td>\n",
       "      <td>6972533</td>\n",
       "      <td>15</td>\n",
       "      <td>15</td>\n",
       "      <td>15</td>\n",
       "      <td>15</td>\n",
       "      <td>0</td>\n",
       "      <td>0</td>\n",
       "      <td>2000</td>\n",
       "    </tr>\n",
       "    <tr>\n",
       "      <th>2</th>\n",
       "      <td>PRIVATE</td>\n",
       "      <td>ALAMEDA</td>\n",
       "      <td>ACTS CHRISTIAN ACADEM</td>\n",
       "      <td>7082266</td>\n",
       "      <td>19</td>\n",
       "      <td>17</td>\n",
       "      <td>17</td>\n",
       "      <td>17</td>\n",
       "      <td>0</td>\n",
       "      <td>0</td>\n",
       "      <td>2009</td>\n",
       "    </tr>\n",
       "    <tr>\n",
       "      <th>3</th>\n",
       "      <td>PRIVATE</td>\n",
       "      <td>ALAMEDA</td>\n",
       "      <td>ACTS CHRISTIAN ACADEM</td>\n",
       "      <td>7082266</td>\n",
       "      <td>23</td>\n",
       "      <td>6</td>\n",
       "      <td>22</td>\n",
       "      <td>23</td>\n",
       "      <td>0</td>\n",
       "      <td>0</td>\n",
       "      <td>2010</td>\n",
       "    </tr>\n",
       "    <tr>\n",
       "      <th>4</th>\n",
       "      <td>PRIVATE</td>\n",
       "      <td>ALAMEDA</td>\n",
       "      <td>ACTS CHRISTIAN ACADEM</td>\n",
       "      <td>7082266</td>\n",
       "      <td>27</td>\n",
       "      <td>27</td>\n",
       "      <td>27</td>\n",
       "      <td>27</td>\n",
       "      <td>0</td>\n",
       "      <td>0</td>\n",
       "      <td>2006</td>\n",
       "    </tr>\n",
       "  </tbody>\n",
       "</table>\n",
       "</div>"
      ],
      "text/plain": [
       "  schoolType   COUNTY                 SCHOOL  school_code   n  nMMR  nDTP  \\\n",
       "0    PRIVATE  ALAMEDA  A CHILD'S WORLD MONTE      7092463  12    12    11   \n",
       "1    PRIVATE  ALAMEDA                   ACAD      6972533  15    15    15   \n",
       "2    PRIVATE  ALAMEDA  ACTS CHRISTIAN ACADEM      7082266  19    17    17   \n",
       "3    PRIVATE  ALAMEDA  ACTS CHRISTIAN ACADEM      7082266  23     6    22   \n",
       "4    PRIVATE  ALAMEDA  ACTS CHRISTIAN ACADEM      7082266  27    27    27   \n",
       "\n",
       "   nPolio  nPBE  nPME  year  \n",
       "0       9     0     0  2000  \n",
       "1      15     0     0  2000  \n",
       "2      17     0     0  2009  \n",
       "3      23     0     0  2010  \n",
       "4      27     0     0  2006  "
      ]
     },
     "execution_count": 79,
     "metadata": {},
     "output_type": "execute_result"
    }
   ],
   "source": [
    "# Import immunization records\n",
    "student_df = pd.read_csv('data/california-kindergarten-immunization-rates/StudentData.csv', sep=None, engine='python')\n",
    "student_df.head()"
   ]
  },
  {
   "cell_type": "code",
   "execution_count": 3,
   "metadata": {
    "pycharm": {}
   },
   "outputs": [
    {
     "data": {
      "text/plain": [
       "array([2010, 2012, 2011, 2014, 2013])"
      ]
     },
     "execution_count": 3,
     "metadata": {},
     "output_type": "execute_result"
    }
   ],
   "source": [
    "# Narrow down to the years we have demo data\n",
    "student_df = student_df[(student_df['year'] > 2009) & (student_df['year'] < 2015)]\n",
    "student_df['year'].unique()"
   ]
  },
  {
   "cell_type": "code",
   "execution_count": 97,
   "metadata": {
    "pycharm": {
     "is_executing": false
    }
   },
   "outputs": [
    {
     "data": {
      "text/html": [
       "<div>\n",
       "<style scoped>\n",
       "    .dataframe tbody tr th:only-of-type {\n",
       "        vertical-align: middle;\n",
       "    }\n",
       "\n",
       "    .dataframe tbody tr th {\n",
       "        vertical-align: top;\n",
       "    }\n",
       "\n",
       "    .dataframe thead th {\n",
       "        text-align: right;\n",
       "    }\n",
       "</style>\n",
       "<table border=\"1\" class=\"dataframe\">\n",
       "  <thead>\n",
       "    <tr style=\"text-align: right;\">\n",
       "      <th></th>\n",
       "      <th>County</th>\n",
       "      <th>n</th>\n",
       "      <th>exemptions</th>\n",
       "      <th>Percent Vaccinated</th>\n",
       "    </tr>\n",
       "  </thead>\n",
       "  <tbody>\n",
       "    <tr>\n",
       "      <th>0</th>\n",
       "      <td>Alameda</td>\n",
       "      <td>301735</td>\n",
       "      <td>3694</td>\n",
       "      <td>98.78</td>\n",
       "    </tr>\n",
       "    <tr>\n",
       "      <th>1</th>\n",
       "      <td>Alpine</td>\n",
       "      <td>205</td>\n",
       "      <td>4</td>\n",
       "      <td>98.05</td>\n",
       "    </tr>\n",
       "    <tr>\n",
       "      <th>2</th>\n",
       "      <td>Amador</td>\n",
       "      <td>4937</td>\n",
       "      <td>183</td>\n",
       "      <td>96.29</td>\n",
       "    </tr>\n",
       "    <tr>\n",
       "      <th>3</th>\n",
       "      <td>Butte</td>\n",
       "      <td>40388</td>\n",
       "      <td>1835</td>\n",
       "      <td>95.46</td>\n",
       "    </tr>\n",
       "    <tr>\n",
       "      <th>4</th>\n",
       "      <td>Calaveras</td>\n",
       "      <td>6733</td>\n",
       "      <td>436</td>\n",
       "      <td>93.52</td>\n",
       "    </tr>\n",
       "  </tbody>\n",
       "</table>\n",
       "</div>"
      ],
      "text/plain": [
       "      County       n  exemptions  Percent Vaccinated\n",
       "0    Alameda  301735        3694               98.78\n",
       "1     Alpine     205           4               98.05\n",
       "2     Amador    4937         183               96.29\n",
       "3      Butte   40388        1835               95.46\n",
       "4  Calaveras    6733         436               93.52"
      ]
     },
     "execution_count": 97,
     "metadata": {},
     "output_type": "execute_result"
    }
   ],
   "source": [
    "# Aggregate the student_df\n",
    "student_df['exemptions'] = student_df['nPBE'] + student_df['nPME']\n",
    "student_agg = student_df.groupby('COUNTY')['n', 'exemptions'].sum()\n",
    "\n",
    "# Format it\n",
    "student_agg = student_agg.reset_index()\n",
    "student_agg = student_agg.rename(columns={'COUNTY': 'County'})\n",
    "student_agg['County'] = student_agg['County'].str.title()\n",
    "\n",
    "# Find the percent vacinated\n",
    "student_agg['Percent Vaccinated'] = round((student_agg['n'] - student_agg['exemptions']) / student_agg['n'] * 100, 2)\n",
    "\n",
    "student_agg.describe()\n",
    "student_agg.head()"
   ]
  },
  {
   "cell_type": "markdown",
   "metadata": {
    "pycharm": {}
   },
   "source": [
    "### Demographic Data"
   ]
  },
  {
   "cell_type": "code",
   "execution_count": 37,
   "metadata": {
    "pycharm": {}
   },
   "outputs": [],
   "source": [
    "def filter_by_county(df):\n",
    "    new_df = df.loc[df['Geography'].str.contains('County')]\n",
    "    new_df = new_df.loc[~new_df['Geography'].str.contains('\\(')]\n",
    "    new_df['Geography'] = new_df['Geography'].str.replace(' County', '')\n",
    "    new_df = new_df.rename(columns={'Geography': 'County'})\n",
    "    return new_df"
   ]
  },
  {
   "cell_type": "code",
   "execution_count": 77,
   "metadata": {
    "pycharm": {}
   },
   "outputs": [
    {
     "data": {
      "text/html": [
       "<div>\n",
       "<style scoped>\n",
       "    .dataframe tbody tr th:only-of-type {\n",
       "        vertical-align: middle;\n",
       "    }\n",
       "\n",
       "    .dataframe tbody tr th {\n",
       "        vertical-align: top;\n",
       "    }\n",
       "\n",
       "    .dataframe thead th {\n",
       "        text-align: right;\n",
       "    }\n",
       "</style>\n",
       "<table border=\"1\" class=\"dataframe\">\n",
       "  <thead>\n",
       "    <tr style=\"text-align: right;\">\n",
       "      <th></th>\n",
       "      <th>County</th>\n",
       "      <th>High School or Higher</th>\n",
       "      <th>Bachelors or Higher</th>\n",
       "    </tr>\n",
       "  </thead>\n",
       "  <tbody>\n",
       "    <tr>\n",
       "      <th>1</th>\n",
       "      <td>Alameda</td>\n",
       "      <td>86.7</td>\n",
       "      <td>42.1</td>\n",
       "    </tr>\n",
       "    <tr>\n",
       "      <th>22</th>\n",
       "      <td>Alpine</td>\n",
       "      <td>91.4</td>\n",
       "      <td>30.5</td>\n",
       "    </tr>\n",
       "    <tr>\n",
       "      <th>28</th>\n",
       "      <td>Amador</td>\n",
       "      <td>88.4</td>\n",
       "      <td>20.5</td>\n",
       "    </tr>\n",
       "    <tr>\n",
       "      <th>47</th>\n",
       "      <td>Butte</td>\n",
       "      <td>88</td>\n",
       "      <td>25</td>\n",
       "    </tr>\n",
       "    <tr>\n",
       "      <th>78</th>\n",
       "      <td>Calaveras</td>\n",
       "      <td>92.5</td>\n",
       "      <td>21.1</td>\n",
       "    </tr>\n",
       "  </tbody>\n",
       "</table>\n",
       "</div>"
      ],
      "text/plain": [
       "       County High School or Higher Bachelors or Higher\n",
       "1     Alameda                  86.7                42.1\n",
       "22     Alpine                  91.4                30.5\n",
       "28     Amador                  88.4                20.5\n",
       "47      Butte                    88                  25\n",
       "78  Calaveras                  92.5                21.1"
      ]
     },
     "execution_count": 77,
     "metadata": {},
     "output_type": "execute_result"
    }
   ],
   "source": [
    "# Import Education Data\n",
    "education_df = pd.read_excel('data/Web_ACS2014_10_Educ.xlsx', sheet_name='Educational Attainment', header=[4,5])\n",
    "\n",
    "# Clean up the cols\n",
    "education_df = education_df.rename(columns={'Unnamed: 0_level_0': 'Geography'})\n",
    "education_df = education_df[[\"Geography\", \"Percent high school graduate or higher\", \"Percent bachelor's degree or higher\"]]\n",
    "education_df = education_df.drop(columns=['Margin of Error', 'Margin of Error.1', 'Summary Level', 'County', 'Place'], level=1)\n",
    "education_df.columns = ['Geography',\t'High School or Higher', 'Bachelors or Higher']\n",
    "\n",
    "# Filter down to the county level\n",
    "education_df = filter_by_county(education_df)\n",
    "\n",
    "education_df.head()"
   ]
  },
  {
   "cell_type": "code",
   "execution_count": 39,
   "metadata": {
    "pycharm": {}
   },
   "outputs": [
    {
     "name": "stdout",
     "output_type": "stream",
     "text": [
      "<class 'pandas.core.frame.DataFrame'>\n",
      "Int64Index: 58 entries, 1 to 1567\n",
      "Data columns (total 3 columns):\n",
      "County                   58 non-null object\n",
      "High School or Higher    58 non-null object\n",
      "Bachelors or Higher      58 non-null object\n",
      "dtypes: object(3)\n",
      "memory usage: 1.8+ KB\n"
     ]
    }
   ],
   "source": [
    "education_df.info()"
   ]
  },
  {
   "cell_type": "code",
   "execution_count": 91,
   "metadata": {
    "pycharm": {}
   },
   "outputs": [
    {
     "data": {
      "text/plain": [
       "(58, 4)"
      ]
     },
     "execution_count": 91,
     "metadata": {},
     "output_type": "execute_result"
    }
   ],
   "source": [
    "# Import Health Insurance Data\n",
    "health_ins_df = pd.read_excel('data/Web_ACS2014_10_HealthIns.xlsx', sheet_name='Health Insurance', header=[4,5])\n",
    "health_ins_df = health_ins_df.drop(columns=['Estimate Margin of Error', 'Percent Margin of Error'], level=1)\n",
    "\n",
    "health_ins_df = health_ins_df.iloc[:, :4]\n",
    "health_ins_df.columns = ['Geography', 'Population', 'Number Insured', 'Percent Insured']\n",
    "health_ins_df = filter_by_county(health_ins_df)\n",
    "\n",
    "health_ins_df.shape"
   ]
  },
  {
   "cell_type": "code",
   "execution_count": 89,
   "metadata": {
    "pycharm": {}
   },
   "outputs": [
    {
     "data": {
      "text/plain": [
       "(58, 3)"
      ]
     },
     "execution_count": 89,
     "metadata": {},
     "output_type": "execute_result"
    }
   ],
   "source": [
    "# Import Income Data\n",
    "income_df = pd.read_excel('data/Web_ACS2014_10_Inc-Pov-Emp.xlsx', sheet_name='Income', header=[3,4])\n",
    "income_df = income_df[[('Unnamed: 0_level_0', 'Geography'), \n",
    "                                     ('Median household income (dollars)', 'Estimate'), \n",
    "                                     ('Per capita income (dollars)', 'Estimate')]]\n",
    "income_df.columns = ['Geography', 'Median Income', 'Per capita income']\n",
    "income_df = filter_by_county(income_df)\n",
    "\n",
    "income_df.shape"
   ]
  },
  {
   "cell_type": "code",
   "execution_count": 88,
   "metadata": {
    "pycharm": {}
   },
   "outputs": [
    {
     "data": {
      "text/plain": [
       "(58, 2)"
      ]
     },
     "execution_count": 88,
     "metadata": {},
     "output_type": "execute_result"
    }
   ],
   "source": [
    "# Import Unemployment Data\n",
    "unemployment_df_raw = pd.read_excel('data/Web_ACS2014_10_Inc-Pov-Emp.xlsx', sheet_name='Employment Status', header=[3,4,5,6])\n",
    "unemployment_df = pd.DataFrame()\n",
    "unemployment_df= unemployment_df_raw.iloc[:,[0, 17]]\n",
    "unemployment_df.columns = ['Geography', 'Unemployment Percentage']\n",
    "\n",
    "unemployment_df = filter_by_county(unemployment_df)\n",
    "unemployment_df.shape"
   ]
  },
  {
   "cell_type": "markdown",
   "metadata": {},
   "source": [
    "### Merge data into one frame for analysis"
   ]
  },
  {
   "cell_type": "code",
   "execution_count": 122,
   "metadata": {},
   "outputs": [
    {
     "data": {
      "text/html": [
       "<div>\n",
       "<style scoped>\n",
       "    .dataframe tbody tr th:only-of-type {\n",
       "        vertical-align: middle;\n",
       "    }\n",
       "\n",
       "    .dataframe tbody tr th {\n",
       "        vertical-align: top;\n",
       "    }\n",
       "\n",
       "    .dataframe thead th {\n",
       "        text-align: right;\n",
       "    }\n",
       "</style>\n",
       "<table border=\"1\" class=\"dataframe\">\n",
       "  <thead>\n",
       "    <tr style=\"text-align: right;\">\n",
       "      <th></th>\n",
       "      <th>County</th>\n",
       "      <th>n</th>\n",
       "      <th>exemptions</th>\n",
       "      <th>Percent Vaccinated</th>\n",
       "      <th>High School or Higher</th>\n",
       "      <th>Bachelors or Higher</th>\n",
       "      <th>Population</th>\n",
       "      <th>Number Insured</th>\n",
       "      <th>Percent Insured</th>\n",
       "      <th>Median Income</th>\n",
       "      <th>Per capita income</th>\n",
       "      <th>Unemployment Percentage</th>\n",
       "    </tr>\n",
       "  </thead>\n",
       "  <tbody>\n",
       "    <tr>\n",
       "      <th>0</th>\n",
       "      <td>Alameda</td>\n",
       "      <td>301735</td>\n",
       "      <td>3694</td>\n",
       "      <td>98.78</td>\n",
       "      <td>86.7</td>\n",
       "      <td>42.1</td>\n",
       "      <td>1546984</td>\n",
       "      <td>1364761</td>\n",
       "      <td>88.2</td>\n",
       "      <td>73775</td>\n",
       "      <td>36439</td>\n",
       "      <td>6.3</td>\n",
       "    </tr>\n",
       "    <tr>\n",
       "      <th>1</th>\n",
       "      <td>Alpine</td>\n",
       "      <td>205</td>\n",
       "      <td>4</td>\n",
       "      <td>98.05</td>\n",
       "      <td>91.4</td>\n",
       "      <td>30.5</td>\n",
       "      <td>1202</td>\n",
       "      <td>935</td>\n",
       "      <td>77.8</td>\n",
       "      <td>61343</td>\n",
       "      <td>24375</td>\n",
       "      <td>3.2</td>\n",
       "    </tr>\n",
       "    <tr>\n",
       "      <th>2</th>\n",
       "      <td>Amador</td>\n",
       "      <td>4937</td>\n",
       "      <td>183</td>\n",
       "      <td>96.29</td>\n",
       "      <td>88.4</td>\n",
       "      <td>20.5</td>\n",
       "      <td>33018</td>\n",
       "      <td>29479</td>\n",
       "      <td>89.3</td>\n",
       "      <td>52964</td>\n",
       "      <td>27373</td>\n",
       "      <td>7.3</td>\n",
       "    </tr>\n",
       "    <tr>\n",
       "      <th>3</th>\n",
       "      <td>Butte</td>\n",
       "      <td>40388</td>\n",
       "      <td>1835</td>\n",
       "      <td>95.46</td>\n",
       "      <td>88.0</td>\n",
       "      <td>25.0</td>\n",
       "      <td>219426</td>\n",
       "      <td>186749</td>\n",
       "      <td>85.1</td>\n",
       "      <td>43165</td>\n",
       "      <td>24430</td>\n",
       "      <td>7.3</td>\n",
       "    </tr>\n",
       "    <tr>\n",
       "      <th>4</th>\n",
       "      <td>Calaveras</td>\n",
       "      <td>6733</td>\n",
       "      <td>436</td>\n",
       "      <td>93.52</td>\n",
       "      <td>92.5</td>\n",
       "      <td>21.1</td>\n",
       "      <td>44481</td>\n",
       "      <td>39604</td>\n",
       "      <td>89.0</td>\n",
       "      <td>54936</td>\n",
       "      <td>29296</td>\n",
       "      <td>5.8</td>\n",
       "    </tr>\n",
       "  </tbody>\n",
       "</table>\n",
       "</div>"
      ],
      "text/plain": [
       "      County       n  exemptions  Percent Vaccinated  High School or Higher  \\\n",
       "0    Alameda  301735        3694               98.78                   86.7   \n",
       "1     Alpine     205           4               98.05                   91.4   \n",
       "2     Amador    4937         183               96.29                   88.4   \n",
       "3      Butte   40388        1835               95.46                   88.0   \n",
       "4  Calaveras    6733         436               93.52                   92.5   \n",
       "\n",
       "   Bachelors or Higher  Population  Number Insured  Percent Insured  \\\n",
       "0                 42.1     1546984         1364761             88.2   \n",
       "1                 30.5        1202             935             77.8   \n",
       "2                 20.5       33018           29479             89.3   \n",
       "3                 25.0      219426          186749             85.1   \n",
       "4                 21.1       44481           39604             89.0   \n",
       "\n",
       "   Median Income  Per capita income  Unemployment Percentage  \n",
       "0          73775              36439                      6.3  \n",
       "1          61343              24375                      3.2  \n",
       "2          52964              27373                      7.3  \n",
       "3          43165              24430                      7.3  \n",
       "4          54936              29296                      5.8  "
      ]
     },
     "execution_count": 122,
     "metadata": {},
     "output_type": "execute_result"
    }
   ],
   "source": [
    "dfs = [student_agg, education_df, health_ins_df, income_df, unemployment_df]\n",
    "\n",
    "merged_df = reduce(lambda left, right: pd.merge(left, right, on='County'), dfs)\n",
    "\n",
    "merged_df.loc[:, merged_df.columns != 'County'] = merged_df.loc[:, merged_df.columns != 'County'].apply(pd.to_numeric)\n",
    "merged_df.head()\n",
    "# convert_cols.head()\n"
   ]
  },
  {
   "cell_type": "code",
   "execution_count": 123,
   "metadata": {},
   "outputs": [
    {
     "name": "stdout",
     "output_type": "stream",
     "text": [
      "<class 'pandas.core.frame.DataFrame'>\n",
      "Int64Index: 58 entries, 0 to 57\n",
      "Data columns (total 12 columns):\n",
      "County                     58 non-null object\n",
      "n                          58 non-null int64\n",
      "exemptions                 58 non-null int64\n",
      "Percent Vaccinated         58 non-null float64\n",
      "High School or Higher      58 non-null float64\n",
      "Bachelors or Higher        58 non-null float64\n",
      "Population                 58 non-null int64\n",
      "Number Insured             58 non-null int64\n",
      "Percent Insured            58 non-null float64\n",
      "Median Income              58 non-null int64\n",
      "Per capita income          58 non-null int64\n",
      "Unemployment Percentage    58 non-null float64\n",
      "dtypes: float64(5), int64(6), object(1)\n",
      "memory usage: 5.9+ KB\n"
     ]
    }
   ],
   "source": [
    "# merged_df['High School or Higher'] = merged_df['High School or Higher'].astype('float64')\n",
    "\n",
    "merged_df.info()"
   ]
  },
  {
   "cell_type": "code",
   "execution_count": 124,
   "metadata": {},
   "outputs": [
    {
     "data": {
      "text/html": [
       "<div>\n",
       "<style scoped>\n",
       "    .dataframe tbody tr th:only-of-type {\n",
       "        vertical-align: middle;\n",
       "    }\n",
       "\n",
       "    .dataframe tbody tr th {\n",
       "        vertical-align: top;\n",
       "    }\n",
       "\n",
       "    .dataframe thead th {\n",
       "        text-align: right;\n",
       "    }\n",
       "</style>\n",
       "<table border=\"1\" class=\"dataframe\">\n",
       "  <thead>\n",
       "    <tr style=\"text-align: right;\">\n",
       "      <th></th>\n",
       "      <th>n</th>\n",
       "      <th>exemptions</th>\n",
       "      <th>Percent Vaccinated</th>\n",
       "      <th>High School or Higher</th>\n",
       "      <th>Bachelors or Higher</th>\n",
       "      <th>Population</th>\n",
       "      <th>Number Insured</th>\n",
       "      <th>Percent Insured</th>\n",
       "      <th>Median Income</th>\n",
       "      <th>Per capita income</th>\n",
       "      <th>Unemployment Percentage</th>\n",
       "    </tr>\n",
       "  </thead>\n",
       "  <tbody>\n",
       "    <tr>\n",
       "      <th>count</th>\n",
       "      <td>5.800000e+01</td>\n",
       "      <td>58.000000</td>\n",
       "      <td>58.000000</td>\n",
       "      <td>58.000000</td>\n",
       "      <td>58.000000</td>\n",
       "      <td>5.800000e+01</td>\n",
       "      <td>5.800000e+01</td>\n",
       "      <td>58.000000</td>\n",
       "      <td>58.000000</td>\n",
       "      <td>58.000000</td>\n",
       "      <td>58.000000</td>\n",
       "    </tr>\n",
       "    <tr>\n",
       "      <th>mean</th>\n",
       "      <td>1.416535e+05</td>\n",
       "      <td>2764.758621</td>\n",
       "      <td>96.441379</td>\n",
       "      <td>83.201724</td>\n",
       "      <td>25.518966</td>\n",
       "      <td>6.474321e+05</td>\n",
       "      <td>5.393666e+05</td>\n",
       "      <td>84.543103</td>\n",
       "      <td>56034.362069</td>\n",
       "      <td>27604.344828</td>\n",
       "      <td>6.939655</td>\n",
       "    </tr>\n",
       "    <tr>\n",
       "      <th>std</th>\n",
       "      <td>3.113958e+05</td>\n",
       "      <td>4675.689953</td>\n",
       "      <td>2.888416</td>\n",
       "      <td>7.471337</td>\n",
       "      <td>10.503424</td>\n",
       "      <td>1.430881e+06</td>\n",
       "      <td>1.148325e+06</td>\n",
       "      <td>3.659120</td>\n",
       "      <td>14428.471908</td>\n",
       "      <td>8198.398555</td>\n",
       "      <td>1.656454</td>\n",
       "    </tr>\n",
       "    <tr>\n",
       "      <th>min</th>\n",
       "      <td>2.050000e+02</td>\n",
       "      <td>4.000000</td>\n",
       "      <td>85.400000</td>\n",
       "      <td>65.200000</td>\n",
       "      <td>12.500000</td>\n",
       "      <td>1.202000e+03</td>\n",
       "      <td>9.350000e+02</td>\n",
       "      <td>77.200000</td>\n",
       "      <td>35997.000000</td>\n",
       "      <td>16409.000000</td>\n",
       "      <td>3.200000</td>\n",
       "    </tr>\n",
       "    <tr>\n",
       "      <th>25%</th>\n",
       "      <td>7.175750e+03</td>\n",
       "      <td>286.250000</td>\n",
       "      <td>94.910000</td>\n",
       "      <td>78.325000</td>\n",
       "      <td>18.200000</td>\n",
       "      <td>4.610725e+04</td>\n",
       "      <td>4.088925e+04</td>\n",
       "      <td>81.275000</td>\n",
       "      <td>44717.250000</td>\n",
       "      <td>21754.250000</td>\n",
       "      <td>5.800000</td>\n",
       "    </tr>\n",
       "    <tr>\n",
       "      <th>50%</th>\n",
       "      <td>3.855450e+04</td>\n",
       "      <td>1089.500000</td>\n",
       "      <td>97.565000</td>\n",
       "      <td>85.650000</td>\n",
       "      <td>22.450000</td>\n",
       "      <td>1.787605e+05</td>\n",
       "      <td>1.565455e+05</td>\n",
       "      <td>84.800000</td>\n",
       "      <td>53302.000000</td>\n",
       "      <td>26190.000000</td>\n",
       "      <td>6.800000</td>\n",
       "    </tr>\n",
       "    <tr>\n",
       "      <th>75%</th>\n",
       "      <td>1.330208e+05</td>\n",
       "      <td>3218.250000</td>\n",
       "      <td>98.597500</td>\n",
       "      <td>88.775000</td>\n",
       "      <td>32.100000</td>\n",
       "      <td>6.490290e+05</td>\n",
       "      <td>5.440302e+05</td>\n",
       "      <td>87.600000</td>\n",
       "      <td>63946.750000</td>\n",
       "      <td>30913.750000</td>\n",
       "      <td>8.300000</td>\n",
       "    </tr>\n",
       "    <tr>\n",
       "      <th>max</th>\n",
       "      <td>2.144125e+06</td>\n",
       "      <td>26391.000000</td>\n",
       "      <td>99.600000</td>\n",
       "      <td>94.300000</td>\n",
       "      <td>54.800000</td>\n",
       "      <td>9.902803e+06</td>\n",
       "      <td>7.838038e+06</td>\n",
       "      <td>91.700000</td>\n",
       "      <td>93854.000000</td>\n",
       "      <td>58004.000000</td>\n",
       "      <td>10.600000</td>\n",
       "    </tr>\n",
       "  </tbody>\n",
       "</table>\n",
       "</div>"
      ],
      "text/plain": [
       "                  n    exemptions  Percent Vaccinated  High School or Higher  \\\n",
       "count  5.800000e+01     58.000000           58.000000              58.000000   \n",
       "mean   1.416535e+05   2764.758621           96.441379              83.201724   \n",
       "std    3.113958e+05   4675.689953            2.888416               7.471337   \n",
       "min    2.050000e+02      4.000000           85.400000              65.200000   \n",
       "25%    7.175750e+03    286.250000           94.910000              78.325000   \n",
       "50%    3.855450e+04   1089.500000           97.565000              85.650000   \n",
       "75%    1.330208e+05   3218.250000           98.597500              88.775000   \n",
       "max    2.144125e+06  26391.000000           99.600000              94.300000   \n",
       "\n",
       "       Bachelors or Higher    Population  Number Insured  Percent Insured  \\\n",
       "count            58.000000  5.800000e+01    5.800000e+01        58.000000   \n",
       "mean             25.518966  6.474321e+05    5.393666e+05        84.543103   \n",
       "std              10.503424  1.430881e+06    1.148325e+06         3.659120   \n",
       "min              12.500000  1.202000e+03    9.350000e+02        77.200000   \n",
       "25%              18.200000  4.610725e+04    4.088925e+04        81.275000   \n",
       "50%              22.450000  1.787605e+05    1.565455e+05        84.800000   \n",
       "75%              32.100000  6.490290e+05    5.440302e+05        87.600000   \n",
       "max              54.800000  9.902803e+06    7.838038e+06        91.700000   \n",
       "\n",
       "       Median Income  Per capita income  Unemployment Percentage  \n",
       "count      58.000000          58.000000                58.000000  \n",
       "mean    56034.362069       27604.344828                 6.939655  \n",
       "std     14428.471908        8198.398555                 1.656454  \n",
       "min     35997.000000       16409.000000                 3.200000  \n",
       "25%     44717.250000       21754.250000                 5.800000  \n",
       "50%     53302.000000       26190.000000                 6.800000  \n",
       "75%     63946.750000       30913.750000                 8.300000  \n",
       "max     93854.000000       58004.000000                10.600000  "
      ]
     },
     "execution_count": 124,
     "metadata": {},
     "output_type": "execute_result"
    }
   ],
   "source": [
    "merged_df.describe()"
   ]
  },
  {
   "cell_type": "code",
   "execution_count": null,
   "metadata": {},
   "outputs": [],
   "source": []
  }
 ],
 "metadata": {
  "kernelspec": {
   "display_name": "Python 3",
   "language": "python",
   "name": "python3"
  },
  "language_info": {
   "codemirror_mode": {
    "name": "ipython",
    "version": 3
   },
   "file_extension": ".py",
   "mimetype": "text/x-python",
   "name": "python",
   "nbconvert_exporter": "python",
   "pygments_lexer": "ipython3",
   "version": "3.7.2"
  }
 },
 "nbformat": 4,
 "nbformat_minor": 2
}
